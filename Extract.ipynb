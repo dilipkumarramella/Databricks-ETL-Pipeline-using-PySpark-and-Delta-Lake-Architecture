{
 "cells": [
  {
   "cell_type": "markdown",
   "metadata": {
    "application/vnd.databricks.v1+cell": {
     "cellMetadata": {},
     "inputWidgets": {},
     "nuid": "bd87101c-1d29-4b03-97d2-14eea4cb8aaf",
     "showTitle": false,
     "tableResultSettingsMap": {},
     "title": ""
    }
   },
   "source": [
    "####Load into Bronze Layer\n",
    "\n",
    "**Step 1**: Copy the raw dataset from the Databricks Filestore to the Bronze layer in ADLS using dbutils.fs.cp. This ensures the original data is preserved in a centralized, immutable storage location for downstream processing.<br>\n",
    "**Step 2**: Validate that the file exists in the mounted ADLS path within Databricks.<br>\n",
    "**Step 3**: Cross-check the file’s presence directly in ADLS via the Azure portal (GUI)."
   ]
  },
  {
   "cell_type": "code",
   "execution_count": 0,
   "metadata": {
    "application/vnd.databricks.v1+cell": {
     "cellMetadata": {
      "byteLimit": 2048000,
      "rowLimit": 10000
     },
     "inputWidgets": {},
     "nuid": "e9b45410-ad9b-4c95-868a-d9875e06bb85",
     "showTitle": false,
     "tableResultSettingsMap": {},
     "title": ""
    }
   },
   "outputs": [
    {
     "output_type": "execute_result",
     "data": {
      "text/plain": [
       "True"
      ]
     },
     "execution_count": 1,
     "metadata": {},
     "output_type": "execute_result"
    }
   ],
   "source": [
    "dbutils.fs.cp(\n",
    "    \"dbfs:/FileStore/tables/kaggle/movies_dataset/\",\n",
    "    \"dbfs:/mnt/ADLSmount/bronze/movies_dataset/\",\n",
    "    recurse=True\n",
    ")"
   ]
  },
  {
   "cell_type": "code",
   "execution_count": 0,
   "metadata": {
    "application/vnd.databricks.v1+cell": {
     "cellMetadata": {
      "byteLimit": 2048000,
      "rowLimit": 10000
     },
     "inputWidgets": {},
     "nuid": "e07108d6-5224-4d32-9b95-a0ee8105db9a",
     "showTitle": false,
     "tableResultSettingsMap": {},
     "title": ""
    }
   },
   "outputs": [
    {
     "output_type": "execute_result",
     "data": {
      "text/plain": [
       "[FileInfo(path='dbfs:/mnt/ADLSmount/bronze/movies_dataset/movies.csv', name='movies.csv', size=3112190, modificationTime=1755582412000)]"
      ]
     },
     "execution_count": 2,
     "metadata": {},
     "output_type": "execute_result"
    }
   ],
   "source": [
    "dbutils.fs.ls(\"dbfs:/mnt/ADLSmount/bronze/movies_dataset/\")"
   ]
  },
  {
   "cell_type": "code",
   "execution_count": 0,
   "metadata": {
    "application/vnd.databricks.v1+cell": {
     "cellMetadata": {
      "byteLimit": 2048000,
      "rowLimit": 10000
     },
     "inputWidgets": {},
     "nuid": "46cd1190-bc17-4228-8930-24874d7dbb43",
     "showTitle": false,
     "tableResultSettingsMap": {},
     "title": ""
    }
   },
   "outputs": [
    {
     "output_type": "display_data",
     "data": {
      "text/html": [
       "<style scoped>\n",
       "  .table-result-container {\n",
       "    max-height: 300px;\n",
       "    overflow: auto;\n",
       "  }\n",
       "  table, th, td {\n",
       "    border: 1px solid black;\n",
       "    border-collapse: collapse;\n",
       "  }\n",
       "  th, td {\n",
       "    padding: 5px;\n",
       "  }\n",
       "  th {\n",
       "    text-align: left;\n",
       "  }\n",
       "</style><div class='table-result-container'><table class='table-result'><thead style='background-color: white'><tr><th>path</th><th>name</th><th>size</th><th>modificationTime</th></tr></thead><tbody><tr><td>dbfs:/FileStore/tables/ADLSsnipBronze.png</td><td>ADLSsnipBronze.png</td><td>151719</td><td>1755496848000</td></tr><tr><td>dbfs:/FileStore/tables/ADLSsnipGold.png</td><td>ADLSsnipGold.png</td><td>160196</td><td>1755537207000</td></tr><tr><td>dbfs:/FileStore/tables/ADLSsnipSilver.png</td><td>ADLSsnipSilver.png</td><td>161401</td><td>1755522125000</td></tr><tr><td>dbfs:/FileStore/tables/kaggle/</td><td>kaggle/</td><td>0</td><td>1755096332000</td></tr></tbody></table></div>"
      ]
     },
     "metadata": {
      "application/vnd.databricks.v1+output": {
       "addedWidgets": {},
       "aggData": [],
       "aggError": "",
       "aggOverflow": false,
       "aggSchema": [],
       "aggSeriesLimitReached": false,
       "aggType": "",
       "arguments": {},
       "columnCustomDisplayInfos": {},
       "data": [
        [
         "dbfs:/FileStore/tables/ADLSsnipBronze.png",
         "ADLSsnipBronze.png",
         151719,
         1755496848000
        ],
        [
         "dbfs:/FileStore/tables/ADLSsnipGold.png",
         "ADLSsnipGold.png",
         160196,
         1755537207000
        ],
        [
         "dbfs:/FileStore/tables/ADLSsnipSilver.png",
         "ADLSsnipSilver.png",
         161401,
         1755522125000
        ],
        [
         "dbfs:/FileStore/tables/kaggle/",
         "kaggle/",
         0,
         1755096332000
        ]
       ],
       "datasetInfos": [],
       "dbfsResultPath": null,
       "isJsonSchema": true,
       "metadata": {},
       "overflow": false,
       "plotOptions": {
        "customPlotOptions": {},
        "displayType": "table",
        "pivotAggregation": null,
        "pivotColumns": null,
        "xColumns": null,
        "yColumns": null
       },
       "removedWidgets": [],
       "schema": [
        {
         "metadata": "{}",
         "name": "path",
         "type": "\"string\""
        },
        {
         "metadata": "{}",
         "name": "name",
         "type": "\"string\""
        },
        {
         "metadata": "{}",
         "name": "size",
         "type": "\"long\""
        },
        {
         "metadata": "{}",
         "name": "modificationTime",
         "type": "\"long\""
        }
       ],
       "type": "table"
      }
     },
     "output_type": "display_data"
    }
   ],
   "source": [
    "# Uploaded the snip file to DBFS and re-checking its existence\n",
    "\n",
    "display(dbutils.fs.ls(\"/FileStore/tables/\"))"
   ]
  },
  {
   "cell_type": "markdown",
   "metadata": {
    "application/vnd.databricks.v1+cell": {
     "cellMetadata": {},
     "inputWidgets": {},
     "nuid": "fccb4522-56c1-42b8-894b-3d4c57348b96",
     "showTitle": false,
     "tableResultSettingsMap": {},
     "title": ""
    }
   },
   "source": [
    "#####Bronze dataset is present in ADLS\n",
    "![Bronze Layer in ADLS](https://adb-582130891499017.17.azuredatabricks.net/files/tables/ADLSsnipBronze.png)"
   ]
  },
  {
   "cell_type": "code",
   "execution_count": 0,
   "metadata": {
    "application/vnd.databricks.v1+cell": {
     "cellMetadata": {},
     "inputWidgets": {},
     "nuid": "fbbb104d-eed0-4293-a474-10796a1961c5",
     "showTitle": false,
     "tableResultSettingsMap": {},
     "title": ""
    }
   },
   "outputs": [],
   "source": []
  }
 ],
 "metadata": {
  "application/vnd.databricks.v1+notebook": {
   "computePreferences": null,
   "dashboards": [],
   "environmentMetadata": {
    "base_environment": "",
    "environment_version": "2"
   },
   "inputWidgetPreferences": null,
   "language": "python",
   "notebookMetadata": {
    "pythonIndentUnit": 4
   },
   "notebookName": "Extract",
   "widgets": {}
  },
  "language_info": {
   "name": "python"
  }
 },
 "nbformat": 4,
 "nbformat_minor": 0
}