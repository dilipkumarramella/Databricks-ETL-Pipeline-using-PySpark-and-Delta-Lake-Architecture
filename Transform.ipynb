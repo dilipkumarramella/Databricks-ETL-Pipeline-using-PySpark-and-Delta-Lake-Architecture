{
 "cells": [
  {
   "cell_type": "markdown",
   "metadata": {
    "application/vnd.databricks.v1+cell": {
     "cellMetadata": {},
     "inputWidgets": {},
     "nuid": "ffb4c89c-5cb5-4355-85e0-e36808ea7080",
     "showTitle": false,
     "tableResultSettingsMap": {},
     "title": ""
    }
   },
   "source": [
    "####Data Transformation\n",
    "\n",
    "At the start of the transformation process, the inferred data types and table schema were checked to ensure that all columns were correctly interpreted by Spark. This verification ensures numeric, string, and date fields are properly recognized, preventing errors during subsequent transformations and calculations.\n"
   ]
  },
  {
   "cell_type": "code",
   "execution_count": 0,
   "metadata": {
    "application/vnd.databricks.v1+cell": {
     "cellMetadata": {
      "byteLimit": 2048000,
      "rowLimit": 10000
     },
     "inputWidgets": {},
     "nuid": "bf12f290-24cc-4d16-8fe6-ec97d0381a31",
     "showTitle": false,
     "tableResultSettingsMap": {},
     "title": ""
    }
   },
   "outputs": [
    {
     "output_type": "stream",
     "name": "stdout",
     "output_type": "stream",
     "text": [
      "root\n |-- MOVIES: string (nullable = true)\n |-- YEAR: string (nullable = true)\n |-- GENRE: string (nullable = true)\n |-- RATING: string (nullable = true)\n |-- ONE-LINE: string (nullable = true)\n |-- STARS: string (nullable = true)\n |-- VOTES: string (nullable = true)\n |-- RunTime: string (nullable = true)\n |-- Gross: string (nullable = true)\n\n"
     ]
    }
   ],
   "source": [
    "# Reading bronze dataset\n",
    "bronze_df = spark.read.format(\"csv\") \\\n",
    "    .option(\"header\", \"true\") \\\n",
    "    .option(\"inferSchema\", \"true\") \\\n",
    "    .load(\"/mnt/ADLSmount/bronze/movies_dataset/\")\n",
    "\n",
    "# display dataset and schema\n",
    "bronze_df.show\n",
    "bronze_df.printSchema()\n"
   ]
  },
  {
   "cell_type": "code",
   "execution_count": 0,
   "metadata": {
    "application/vnd.databricks.v1+cell": {
     "cellMetadata": {
      "byteLimit": 2048000,
      "rowLimit": 10000
     },
     "inputWidgets": {},
     "nuid": "39880cea-b71a-4a5c-8688-4990aa963e7e",
     "showTitle": false,
     "tableResultSettingsMap": {},
     "title": ""
    }
   },
   "outputs": [
    {
     "output_type": "stream",
     "name": "stdout",
     "output_type": "stream",
     "text": [
      "+--------------------+-------+--------------------+------+--------+-----+-----+-------+-----+\n|              MOVIES|   YEAR|               GENRE|RATING|ONE-LINE|STARS|VOTES|RunTime|Gross|\n+--------------------+-------+--------------------+------+--------+-----+-----+-------+-----+\n|       Blood Red Sky| (2021)|                  \\n|  NULL|    NULL| NULL| NULL|   NULL| NULL|\n|              Action| Horror| Thriller        ...|   6.1|      \\n| NULL| NULL|   NULL| NULL|\n|A woman with a my...|     \\n|                NULL|  NULL|    NULL| NULL| NULL|   NULL| NULL|\n|           Director:|   NULL|                NULL|  NULL|    NULL| NULL| NULL|   NULL| NULL|\n|     Peter Thorwarth|   NULL|                NULL|  NULL|    NULL| NULL| NULL|   NULL| NULL|\n|                  | |   NULL|                NULL|  NULL|    NULL| NULL| NULL|   NULL| NULL|\n|              Stars:|   NULL|                NULL|  NULL|    NULL| NULL| NULL|   NULL| NULL|\n|     Peri Baumeister|       |                NULL|  NULL|    NULL| NULL| NULL|   NULL| NULL|\n|     Carl Anton Koch|       |                NULL|  NULL|    NULL| NULL| NULL|   NULL| NULL|\n|    Alexander Scheer|       |                NULL|  NULL|    NULL| NULL| NULL|   NULL| NULL|\n+--------------------+-------+--------------------+------+--------+-----+-----+-------+-----+\nonly showing top 10 rows\n\n"
     ]
    }
   ],
   "source": [
    "bronze_df.show(10)"
   ]
  },
  {
   "cell_type": "markdown",
   "metadata": {
    "application/vnd.databricks.v1+cell": {
     "cellMetadata": {},
     "inputWidgets": {},
     "nuid": "3fd86e38-6804-42fb-a072-7d264fdce995",
     "showTitle": false,
     "tableResultSettingsMap": {},
     "title": ""
    }
   },
   "source": [
    "The initial output showed that the data was not formatted correctly. To better understand its structure, the first 500 bytes of the raw file were previewed using print(dbutils.fs.head(raw_path, 500)). This helped identify the delimiters, multiline values, and any irregularities present in the dataset."
   ]
  },
  {
   "cell_type": "code",
   "execution_count": 0,
   "metadata": {
    "application/vnd.databricks.v1+cell": {
     "cellMetadata": {
      "byteLimit": 2048000,
      "rowLimit": 10000
     },
     "inputWidgets": {},
     "nuid": "7fef2105-fd57-4780-ae12-ce4312a4cf0e",
     "showTitle": false,
     "tableResultSettingsMap": {},
     "title": ""
    }
   },
   "outputs": [
    {
     "output_type": "stream",
     "name": "stdout",
     "output_type": "stream",
     "text": [
      "[Truncated to first 500 bytes]\nMOVIES,YEAR,GENRE,RATING,ONE-LINE,STARS,VOTES,RunTime,Gross\r\nBlood Red Sky,(2021),\"\nAction, Horror, Thriller            \",6.1,\"\nA woman with a mysterious illness is forced into action when a group of terrorists attempt to hijack a transatlantic overnight flight.\",\"\n    Director:\nPeter Thorwarth\n| \n    Stars:\nPeri Baumeister, \nCarl Anton Koch, \nAlexander Scheer, \nKais Setti\n\",\"21,062\",121,\r\nMasters of the Universe: Revelation,(2021– ),\"\nAnimation, Action, Adventure            \",5.0,\"\nThe war fo\n"
     ]
    }
   ],
   "source": [
    "raw_path = \"/mnt/ADLSmount/bronze/movies_dataset/movies.csv\"\n",
    "\n",
    "print(dbutils.fs.head(raw_path, 500))\n",
    "\n"
   ]
  },
  {
   "cell_type": "markdown",
   "metadata": {
    "application/vnd.databricks.v1+cell": {
     "cellMetadata": {},
     "inputWidgets": {},
     "nuid": "be2048d1-c42f-46b9-bd91-2204657f24d2",
     "showTitle": false,
     "tableResultSettingsMap": {},
     "title": ""
    }
   },
   "source": [
    "A StructType schema was defined to explicitly specify the data types for each column, ensuring correct type handling instead of relying on Spark’s automatic inference. The option .option(\"multiLine\", True) allows reading values that span multiple lines within quotes, and .option(\"escape\", \"\\\"\") ensures that embedded double quotes are correctly interpreted, preventing parsing errors in the CSV."
   ]
  },
  {
   "cell_type": "code",
   "execution_count": 0,
   "metadata": {
    "application/vnd.databricks.v1+cell": {
     "cellMetadata": {
      "byteLimit": 2048000,
      "rowLimit": 10000
     },
     "inputWidgets": {},
     "nuid": "4d1a8fe5-bc7b-4fa0-8fba-e9f1dc242176",
     "showTitle": false,
     "tableResultSettingsMap": {},
     "title": ""
    }
   },
   "outputs": [
    {
     "output_type": "display_data",
     "data": {
      "text/html": [
       "<style scoped>\n",
       "  .table-result-container {\n",
       "    max-height: 300px;\n",
       "    overflow: auto;\n",
       "  }\n",
       "  table, th, td {\n",
       "    border: 1px solid black;\n",
       "    border-collapse: collapse;\n",
       "  }\n",
       "  th, td {\n",
       "    padding: 5px;\n",
       "  }\n",
       "  th {\n",
       "    text-align: left;\n",
       "  }\n",
       "</style><div class='table-result-container'><table class='table-result'><thead style='background-color: white'><tr><th>MOVIES</th><th>YEAR</th><th>GENRE</th><th>RATING</th><th>ONE-LINE</th><th>STARS</th><th>VOTES</th><th>RunTime</th><th>Gross</th></tr></thead><tbody><tr><td>Blood Red Sky</td><td>(2021)</td><td>\n",
       "Action, Horror, Thriller            </td><td>6.1</td><td>\n",
       "A woman with a mysterious illness is forced into action when a group of terrorists attempt to hijack a transatlantic overnight flight.</td><td>\n",
       "    Director:\n",
       "Peter Thorwarth\n",
       "| \n",
       "    Stars:\n",
       "Peri Baumeister, \n",
       "Carl Anton Koch, \n",
       "Alexander Scheer, \n",
       "Kais Setti\n",
       "</td><td>21,062</td><td>121</td><td>null</td></tr><tr><td>Masters of the Universe: Revelation</td><td>(2021– )</td><td>\n",
       "Animation, Action, Adventure            </td><td>5.0</td><td>\n",
       "The war for Eternia begins again in what may be the final battle between He-Man and Skeletor. A new animated series from writer-director Kevin Smith.</td><td>\n",
       "            \n",
       "    Stars:\n",
       "Chris Wood, \n",
       "Sarah Michelle Gellar, \n",
       "Lena Headey, \n",
       "Mark Hamill\n",
       "</td><td>17,870</td><td>25</td><td>null</td></tr><tr><td>The Walking Dead</td><td>(2010–2022)</td><td>\n",
       "Drama, Horror, Thriller            </td><td>8.2</td><td>\n",
       "Sheriff Deputy Rick Grimes wakes up from a coma to learn the world is in ruins and must lead a group of survivors to stay alive.</td><td>\n",
       "            \n",
       "    Stars:\n",
       "Andrew Lincoln, \n",
       "Norman Reedus, \n",
       "Melissa McBride, \n",
       "Lauren Cohan\n",
       "</td><td>885,805</td><td>44</td><td>null</td></tr><tr><td>Rick and Morty</td><td>(2013– )</td><td>\n",
       "Animation, Adventure, Comedy            </td><td>9.2</td><td>\n",
       "An animated series that follows the exploits of a super scientist and his not-so-bright grandson.</td><td>\n",
       "            \n",
       "    Stars:\n",
       "Justin Roiland, \n",
       "Chris Parnell, \n",
       "Spencer Grammer, \n",
       "Sarah Chalke\n",
       "</td><td>414,849</td><td>23</td><td>null</td></tr><tr><td>Army of Thieves</td><td>(2021)</td><td>\n",
       "Action, Crime, Horror            </td><td>null</td><td>\n",
       "A prequel, set before the events of Army of the Dead, which focuses on German safecracker Ludwig Dieter leading a group of aspiring thieves on a top secret heist during the early stages of the zombie apocalypse.</td><td>\n",
       "    Director:\n",
       "Matthias Schweighöfer\n",
       "| \n",
       "    Stars:\n",
       "Matthias Schweighöfer, \n",
       "Nathalie Emmanuel, \n",
       "Ruby O. Fee, \n",
       "Stuart Martin\n",
       "</td><td>null</td><td>null</td><td>null</td></tr><tr><td>Outer Banks</td><td>(2020– )</td><td>\n",
       "Action, Crime, Drama            </td><td>7.6</td><td>\n",
       "A group of teenagers from the wrong side of the tracks stumble upon a treasure map that unearths a long buried secret.</td><td>\n",
       "            \n",
       "    Stars:\n",
       "Chase Stokes, \n",
       "Madelyn Cline, \n",
       "Madison Bailey, \n",
       "Jonathan Daviss\n",
       "</td><td>25,858</td><td>50</td><td>null</td></tr><tr><td>The Last Letter from Your Lover</td><td>(2021)</td><td>\n",
       "Drama, Romance            </td><td>6.8</td><td>\n",
       "A pair of interwoven stories set in the past and present follow an ambitious journalist determined to solve the mystery of a forbidden love affair at the center of a trove of secret love letters from 1965.</td><td>\n",
       "    Director:\n",
       "Augustine Frizzell\n",
       "| \n",
       "    Stars:\n",
       "Shailene Woodley, \n",
       "Joe Alwyn, \n",
       "Wendy Nottingham, \n",
       "Felicity Jones\n",
       "</td><td>5,283</td><td>110</td><td>null</td></tr><tr><td>Dexter</td><td>(2006–2013)</td><td>\n",
       "Crime, Drama, Mystery            </td><td>8.6</td><td>\n",
       "By day, mild-mannered Dexter is a blood-spatter analyst for the Miami police. But at night, he is a serial killer who only targets other murderers.</td><td>\n",
       "            \n",
       "    Stars:\n",
       "Michael C. Hall, \n",
       "Jennifer Carpenter, \n",
       "David Zayas, \n",
       "James Remar\n",
       "</td><td>665,387</td><td>53</td><td>null</td></tr><tr><td>Never Have I Ever</td><td>(2020– )</td><td>\n",
       "Comedy            </td><td>7.9</td><td>\n",
       "The complicated life of a modern-day first generation Indian American teenage girl, inspired by Mindy Kaling's own childhood.</td><td>\n",
       "            \n",
       "    Stars:\n",
       "Maitreyi Ramakrishnan, \n",
       "Poorna Jagannathan, \n",
       "Darren Barnet, \n",
       "John McEnroe\n",
       "</td><td>34,530</td><td>30</td><td>null</td></tr><tr><td>Virgin River</td><td>(2019– )</td><td>\n",
       "Drama, Romance            </td><td>7.4</td><td>\n",
       "Seeking a fresh start, nurse practitioner Melinda Monroe moves from Los Angeles to a remote Northern California town and is surprised by what and who she finds.</td><td>\n",
       "            \n",
       "    Stars:\n",
       "Alexandra Breckenridge, \n",
       "Martin Henderson, \n",
       "Colin Lawrence, \n",
       "Tim Matheson\n",
       "</td><td>27,279</td><td>44</td><td>null</td></tr></tbody></table></div>"
      ]
     },
     "metadata": {
      "application/vnd.databricks.v1+output": {
       "addedWidgets": {},
       "aggData": [],
       "aggError": "",
       "aggOverflow": false,
       "aggSchema": [],
       "aggSeriesLimitReached": false,
       "aggType": "",
       "arguments": {},
       "columnCustomDisplayInfos": {},
       "data": [
        [
         "Blood Red Sky",
         "(2021)",
         "\nAction, Horror, Thriller            ",
         6.1,
         "\nA woman with a mysterious illness is forced into action when a group of terrorists attempt to hijack a transatlantic overnight flight.",
         "\n    Director:\nPeter Thorwarth\n| \n    Stars:\nPeri Baumeister, \nCarl Anton Koch, \nAlexander Scheer, \nKais Setti\n",
         "21,062",
         121,
         null
        ],
        [
         "Masters of the Universe: Revelation",
         "(2021– )",
         "\nAnimation, Action, Adventure            ",
         5.0,
         "\nThe war for Eternia begins again in what may be the final battle between He-Man and Skeletor. A new animated series from writer-director Kevin Smith.",
         "\n            \n    Stars:\nChris Wood, \nSarah Michelle Gellar, \nLena Headey, \nMark Hamill\n",
         "17,870",
         25,
         null
        ],
        [
         "The Walking Dead",
         "(2010–2022)",
         "\nDrama, Horror, Thriller            ",
         8.2,
         "\nSheriff Deputy Rick Grimes wakes up from a coma to learn the world is in ruins and must lead a group of survivors to stay alive.",
         "\n            \n    Stars:\nAndrew Lincoln, \nNorman Reedus, \nMelissa McBride, \nLauren Cohan\n",
         "885,805",
         44,
         null
        ],
        [
         "Rick and Morty",
         "(2013– )",
         "\nAnimation, Adventure, Comedy            ",
         9.2,
         "\nAn animated series that follows the exploits of a super scientist and his not-so-bright grandson.",
         "\n            \n    Stars:\nJustin Roiland, \nChris Parnell, \nSpencer Grammer, \nSarah Chalke\n",
         "414,849",
         23,
         null
        ],
        [
         "Army of Thieves",
         "(2021)",
         "\nAction, Crime, Horror            ",
         null,
         "\nA prequel, set before the events of Army of the Dead, which focuses on German safecracker Ludwig Dieter leading a group of aspiring thieves on a top secret heist during the early stages of the zombie apocalypse.",
         "\n    Director:\nMatthias Schweighöfer\n| \n    Stars:\nMatthias Schweighöfer, \nNathalie Emmanuel, \nRuby O. Fee, \nStuart Martin\n",
         null,
         null,
         null
        ],
        [
         "Outer Banks",
         "(2020– )",
         "\nAction, Crime, Drama            ",
         7.6,
         "\nA group of teenagers from the wrong side of the tracks stumble upon a treasure map that unearths a long buried secret.",
         "\n            \n    Stars:\nChase Stokes, \nMadelyn Cline, \nMadison Bailey, \nJonathan Daviss\n",
         "25,858",
         50,
         null
        ],
        [
         "The Last Letter from Your Lover",
         "(2021)",
         "\nDrama, Romance            ",
         6.8,
         "\nA pair of interwoven stories set in the past and present follow an ambitious journalist determined to solve the mystery of a forbidden love affair at the center of a trove of secret love letters from 1965.",
         "\n    Director:\nAugustine Frizzell\n| \n    Stars:\nShailene Woodley, \nJoe Alwyn, \nWendy Nottingham, \nFelicity Jones\n",
         "5,283",
         110,
         null
        ],
        [
         "Dexter",
         "(2006–2013)",
         "\nCrime, Drama, Mystery            ",
         8.6,
         "\nBy day, mild-mannered Dexter is a blood-spatter analyst for the Miami police. But at night, he is a serial killer who only targets other murderers.",
         "\n            \n    Stars:\nMichael C. Hall, \nJennifer Carpenter, \nDavid Zayas, \nJames Remar\n",
         "665,387",
         53,
         null
        ],
        [
         "Never Have I Ever",
         "(2020– )",
         "\nComedy            ",
         7.9,
         "\nThe complicated life of a modern-day first generation Indian American teenage girl, inspired by Mindy Kaling's own childhood.",
         "\n            \n    Stars:\nMaitreyi Ramakrishnan, \nPoorna Jagannathan, \nDarren Barnet, \nJohn McEnroe\n",
         "34,530",
         30,
         null
        ],
        [
         "Virgin River",
         "(2019– )",
         "\nDrama, Romance            ",
         7.4,
         "\nSeeking a fresh start, nurse practitioner Melinda Monroe moves from Los Angeles to a remote Northern California town and is surprised by what and who she finds.",
         "\n            \n    Stars:\nAlexandra Breckenridge, \nMartin Henderson, \nColin Lawrence, \nTim Matheson\n",
         "27,279",
         44,
         null
        ]
       ],
       "datasetInfos": [],
       "dbfsResultPath": null,
       "isJsonSchema": true,
       "metadata": {},
       "overflow": false,
       "plotOptions": {
        "customPlotOptions": {},
        "displayType": "table",
        "pivotAggregation": null,
        "pivotColumns": null,
        "xColumns": null,
        "yColumns": null
       },
       "removedWidgets": [],
       "schema": [
        {
         "metadata": "{}",
         "name": "MOVIES",
         "type": "\"string\""
        },
        {
         "metadata": "{}",
         "name": "YEAR",
         "type": "\"string\""
        },
        {
         "metadata": "{}",
         "name": "GENRE",
         "type": "\"string\""
        },
        {
         "metadata": "{}",
         "name": "RATING",
         "type": "\"double\""
        },
        {
         "metadata": "{}",
         "name": "ONE-LINE",
         "type": "\"string\""
        },
        {
         "metadata": "{}",
         "name": "STARS",
         "type": "\"string\""
        },
        {
         "metadata": "{}",
         "name": "VOTES",
         "type": "\"string\""
        },
        {
         "metadata": "{}",
         "name": "RunTime",
         "type": "\"integer\""
        },
        {
         "metadata": "{}",
         "name": "Gross",
         "type": "\"string\""
        }
       ],
       "type": "table"
      }
     },
     "output_type": "display_data"
    }
   ],
   "source": [
    "from pyspark.sql.types import StructType, StructField, StringType, IntegerType, DoubleType\n",
    "\n",
    "# Define schema\n",
    "schema = StructType([\n",
    "    StructField(\"MOVIES\", StringType(), False),  # not null\n",
    "    StructField(\"YEAR\", StringType(), True),\n",
    "    StructField(\"GENRE\", StringType(), True),\n",
    "    StructField(\"RATING\", DoubleType(), True),\n",
    "    StructField(\"ONE-LINE\", StringType(), True),\n",
    "    StructField(\"STARS\", StringType(), True),\n",
    "    StructField(\"VOTES\", StringType(), True),\n",
    "    StructField(\"RunTime\", IntegerType(), True),\n",
    "    StructField(\"Gross\", StringType(), True)\n",
    "])\n",
    "\n",
    "raw_path = \"/mnt/ADLSmount/bronze/movies_dataset/movies.csv\"\n",
    "\n",
    "df_bronze = (\n",
    "    spark.read\n",
    "        .option(\"header\", True)\n",
    "        .option(\"multiLine\", True)   # allows newlines inside quotes\n",
    "        .option(\"escape\", \"\\\"\")      # handle quotes properly\n",
    "        .schema(schema)\n",
    "        .csv(raw_path)\n",
    ")\n",
    "\n",
    "display(df_bronze.limit(10))\n"
   ]
  },
  {
   "cell_type": "code",
   "execution_count": 0,
   "metadata": {
    "application/vnd.databricks.v1+cell": {
     "cellMetadata": {
      "byteLimit": 2048000,
      "rowLimit": 10000
     },
     "inputWidgets": {},
     "nuid": "d2d95de6-82fa-4313-9310-1a6873efd483",
     "showTitle": false,
     "tableResultSettingsMap": {},
     "title": ""
    }
   },
   "outputs": [
    {
     "output_type": "stream",
     "name": "stdout",
     "output_type": "stream",
     "text": [
      "Before dropping nulls: 9999\nAfter dropping nulls: 9999\n"
     ]
    }
   ],
   "source": [
    "'''The MOVIES column was checked for null values since it is the primary identifier for each record. Using dropna confirmed that there are no nulls in this column, ensuring all movie records are valid for subsequent transformations.'''\n",
    "\n",
    "df_cleaned = df_bronze.dropna(subset=[\"MOVIES\"])\n",
    "\n",
    "print(\"Before dropping nulls:\", df_bronze.count())\n",
    "print(\"After dropping nulls:\", df_cleaned.count())\n"
   ]
  },
  {
   "cell_type": "code",
   "execution_count": 0,
   "metadata": {
    "application/vnd.databricks.v1+cell": {
     "cellMetadata": {
      "byteLimit": 2048000,
      "rowLimit": 10000
     },
     "inputWidgets": {},
     "nuid": "43678377-c680-44ee-aece-5a0eee6f575f",
     "showTitle": false,
     "tableResultSettingsMap": {},
     "title": ""
    }
   },
   "outputs": [
    {
     "output_type": "display_data",
     "data": {
      "text/html": [
       "<style scoped>\n",
       "  .table-result-container {\n",
       "    max-height: 300px;\n",
       "    overflow: auto;\n",
       "  }\n",
       "  table, th, td {\n",
       "    border: 1px solid black;\n",
       "    border-collapse: collapse;\n",
       "  }\n",
       "  th, td {\n",
       "    padding: 5px;\n",
       "  }\n",
       "  th {\n",
       "    text-align: left;\n",
       "  }\n",
       "</style><div class='table-result-container'><table class='table-result'><thead style='background-color: white'><tr><th>MOVIES</th><th>YEAR</th><th>GENRE</th><th>RATING</th><th>ONE-LINE</th><th>STARS</th><th>VOTES</th><th>RunTime</th><th>Gross</th></tr></thead><tbody><tr><td>Blood Red Sky</td><td>2021</td><td>\n",
       "Action, Horror, Thriller            </td><td>6.1</td><td>\n",
       "A woman with a mysterious illness is forced into action when a group of terrorists attempt to hijack a transatlantic overnight flight.</td><td>\n",
       "    Director:\n",
       "Peter Thorwarth\n",
       "| \n",
       "    Stars:\n",
       "Peri Baumeister, \n",
       "Carl Anton Koch, \n",
       "Alexander Scheer, \n",
       "Kais Setti\n",
       "</td><td>21,062</td><td>121</td><td>null</td></tr><tr><td>Masters of the Universe: Revelation</td><td>2021</td><td>\n",
       "Animation, Action, Adventure            </td><td>5.0</td><td>\n",
       "The war for Eternia begins again in what may be the final battle between He-Man and Skeletor. A new animated series from writer-director Kevin Smith.</td><td>\n",
       "            \n",
       "    Stars:\n",
       "Chris Wood, \n",
       "Sarah Michelle Gellar, \n",
       "Lena Headey, \n",
       "Mark Hamill\n",
       "</td><td>17,870</td><td>25</td><td>null</td></tr><tr><td>The Walking Dead</td><td>2010</td><td>\n",
       "Drama, Horror, Thriller            </td><td>8.2</td><td>\n",
       "Sheriff Deputy Rick Grimes wakes up from a coma to learn the world is in ruins and must lead a group of survivors to stay alive.</td><td>\n",
       "            \n",
       "    Stars:\n",
       "Andrew Lincoln, \n",
       "Norman Reedus, \n",
       "Melissa McBride, \n",
       "Lauren Cohan\n",
       "</td><td>885,805</td><td>44</td><td>null</td></tr><tr><td>Rick and Morty</td><td>2013</td><td>\n",
       "Animation, Adventure, Comedy            </td><td>9.2</td><td>\n",
       "An animated series that follows the exploits of a super scientist and his not-so-bright grandson.</td><td>\n",
       "            \n",
       "    Stars:\n",
       "Justin Roiland, \n",
       "Chris Parnell, \n",
       "Spencer Grammer, \n",
       "Sarah Chalke\n",
       "</td><td>414,849</td><td>23</td><td>null</td></tr><tr><td>Army of Thieves</td><td>2021</td><td>\n",
       "Action, Crime, Horror            </td><td>null</td><td>\n",
       "A prequel, set before the events of Army of the Dead, which focuses on German safecracker Ludwig Dieter leading a group of aspiring thieves on a top secret heist during the early stages of the zombie apocalypse.</td><td>\n",
       "    Director:\n",
       "Matthias Schweighöfer\n",
       "| \n",
       "    Stars:\n",
       "Matthias Schweighöfer, \n",
       "Nathalie Emmanuel, \n",
       "Ruby O. Fee, \n",
       "Stuart Martin\n",
       "</td><td>null</td><td>null</td><td>null</td></tr></tbody></table></div>"
      ]
     },
     "metadata": {
      "application/vnd.databricks.v1+output": {
       "addedWidgets": {},
       "aggData": [],
       "aggError": "",
       "aggOverflow": false,
       "aggSchema": [],
       "aggSeriesLimitReached": false,
       "aggType": "",
       "arguments": {},
       "columnCustomDisplayInfos": {},
       "data": [
        [
         "Blood Red Sky",
         2021,
         "\nAction, Horror, Thriller            ",
         6.1,
         "\nA woman with a mysterious illness is forced into action when a group of terrorists attempt to hijack a transatlantic overnight flight.",
         "\n    Director:\nPeter Thorwarth\n| \n    Stars:\nPeri Baumeister, \nCarl Anton Koch, \nAlexander Scheer, \nKais Setti\n",
         "21,062",
         121,
         null
        ],
        [
         "Masters of the Universe: Revelation",
         2021,
         "\nAnimation, Action, Adventure            ",
         5.0,
         "\nThe war for Eternia begins again in what may be the final battle between He-Man and Skeletor. A new animated series from writer-director Kevin Smith.",
         "\n            \n    Stars:\nChris Wood, \nSarah Michelle Gellar, \nLena Headey, \nMark Hamill\n",
         "17,870",
         25,
         null
        ],
        [
         "The Walking Dead",
         2010,
         "\nDrama, Horror, Thriller            ",
         8.2,
         "\nSheriff Deputy Rick Grimes wakes up from a coma to learn the world is in ruins and must lead a group of survivors to stay alive.",
         "\n            \n    Stars:\nAndrew Lincoln, \nNorman Reedus, \nMelissa McBride, \nLauren Cohan\n",
         "885,805",
         44,
         null
        ],
        [
         "Rick and Morty",
         2013,
         "\nAnimation, Adventure, Comedy            ",
         9.2,
         "\nAn animated series that follows the exploits of a super scientist and his not-so-bright grandson.",
         "\n            \n    Stars:\nJustin Roiland, \nChris Parnell, \nSpencer Grammer, \nSarah Chalke\n",
         "414,849",
         23,
         null
        ],
        [
         "Army of Thieves",
         2021,
         "\nAction, Crime, Horror            ",
         null,
         "\nA prequel, set before the events of Army of the Dead, which focuses on German safecracker Ludwig Dieter leading a group of aspiring thieves on a top secret heist during the early stages of the zombie apocalypse.",
         "\n    Director:\nMatthias Schweighöfer\n| \n    Stars:\nMatthias Schweighöfer, \nNathalie Emmanuel, \nRuby O. Fee, \nStuart Martin\n",
         null,
         null,
         null
        ]
       ],
       "datasetInfos": [],
       "dbfsResultPath": null,
       "isJsonSchema": true,
       "metadata": {},
       "overflow": false,
       "plotOptions": {
        "customPlotOptions": {},
        "displayType": "table",
        "pivotAggregation": null,
        "pivotColumns": null,
        "xColumns": null,
        "yColumns": null
       },
       "removedWidgets": [],
       "schema": [
        {
         "metadata": "{}",
         "name": "MOVIES",
         "type": "\"string\""
        },
        {
         "metadata": "{}",
         "name": "YEAR",
         "type": "\"integer\""
        },
        {
         "metadata": "{}",
         "name": "GENRE",
         "type": "\"string\""
        },
        {
         "metadata": "{}",
         "name": "RATING",
         "type": "\"double\""
        },
        {
         "metadata": "{}",
         "name": "ONE-LINE",
         "type": "\"string\""
        },
        {
         "metadata": "{}",
         "name": "STARS",
         "type": "\"string\""
        },
        {
         "metadata": "{}",
         "name": "VOTES",
         "type": "\"string\""
        },
        {
         "metadata": "{}",
         "name": "RunTime",
         "type": "\"integer\""
        },
        {
         "metadata": "{}",
         "name": "Gross",
         "type": "\"string\""
        }
       ],
       "type": "table"
      }
     },
     "output_type": "display_data"
    }
   ],
   "source": [
    "'''The YEAR column was extracted using a regular expression to retain only the four-digit year and cast to integer. Null or invalid values were filled with 0 to ensure numeric consistency for analysis.'''\n",
    "\n",
    "from pyspark.sql.functions import regexp_extract, col\n",
    "\n",
    "df_cleaned = (\n",
    "    df_bronze\n",
    "    .withColumn(\"YEAR\", regexp_extract(col(\"YEAR\"), r\"(\\d{4})\", 1).cast(\"int\"))\n",
    "    .fillna({\"YEAR\": 0}) \n",
    ")\n",
    "df_cleaned.limit(5).display()\n"
   ]
  },
  {
   "cell_type": "code",
   "execution_count": 0,
   "metadata": {
    "application/vnd.databricks.v1+cell": {
     "cellMetadata": {
      "byteLimit": 2048000,
      "rowLimit": 10000
     },
     "inputWidgets": {},
     "nuid": "87b50e0e-1ff4-4207-b72e-9728713f7ad6",
     "showTitle": false,
     "tableResultSettingsMap": {},
     "title": ""
    }
   },
   "outputs": [
    {
     "output_type": "display_data",
     "data": {
      "text/html": [
       "<style scoped>\n",
       "  .table-result-container {\n",
       "    max-height: 300px;\n",
       "    overflow: auto;\n",
       "  }\n",
       "  table, th, td {\n",
       "    border: 1px solid black;\n",
       "    border-collapse: collapse;\n",
       "  }\n",
       "  th, td {\n",
       "    padding: 5px;\n",
       "  }\n",
       "  th {\n",
       "    text-align: left;\n",
       "  }\n",
       "</style><div class='table-result-container'><table class='table-result'><thead style='background-color: white'><tr><th>MOVIES</th><th>YEAR</th><th>GENRE</th><th>RATING</th><th>ONE-LINE</th><th>STARS</th><th>VOTES</th><th>RunTime</th><th>Gross</th></tr></thead><tbody><tr><td>Blood Red Sky</td><td>2021</td><td>\n",
       "Action, Horror, Thriller            </td><td>6.1</td><td>\n",
       "A woman with a mysterious illness is forced into action when a group of terrorists attempt to hijack a transatlantic overnight flight.</td><td>\n",
       "    Director:\n",
       "Peter Thorwarth\n",
       "| \n",
       "    Stars:\n",
       "Peri Baumeister, \n",
       "Carl Anton Koch, \n",
       "Alexander Scheer, \n",
       "Kais Setti\n",
       "</td><td>21,062</td><td>121</td><td>null</td></tr><tr><td>Masters of the Universe: Revelation</td><td>2021</td><td>\n",
       "Animation, Action, Adventure            </td><td>5.0</td><td>\n",
       "The war for Eternia begins again in what may be the final battle between He-Man and Skeletor. A new animated series from writer-director Kevin Smith.</td><td>\n",
       "            \n",
       "    Stars:\n",
       "Chris Wood, \n",
       "Sarah Michelle Gellar, \n",
       "Lena Headey, \n",
       "Mark Hamill\n",
       "</td><td>17,870</td><td>25</td><td>null</td></tr><tr><td>The Walking Dead</td><td>2010</td><td>\n",
       "Drama, Horror, Thriller            </td><td>8.2</td><td>\n",
       "Sheriff Deputy Rick Grimes wakes up from a coma to learn the world is in ruins and must lead a group of survivors to stay alive.</td><td>\n",
       "            \n",
       "    Stars:\n",
       "Andrew Lincoln, \n",
       "Norman Reedus, \n",
       "Melissa McBride, \n",
       "Lauren Cohan\n",
       "</td><td>885,805</td><td>44</td><td>null</td></tr><tr><td>Rick and Morty</td><td>2013</td><td>\n",
       "Animation, Adventure, Comedy            </td><td>9.2</td><td>\n",
       "An animated series that follows the exploits of a super scientist and his not-so-bright grandson.</td><td>\n",
       "            \n",
       "    Stars:\n",
       "Justin Roiland, \n",
       "Chris Parnell, \n",
       "Spencer Grammer, \n",
       "Sarah Chalke\n",
       "</td><td>414,849</td><td>23</td><td>null</td></tr><tr><td>Army of Thieves</td><td>2021</td><td>\n",
       "Action, Crime, Horror            </td><td>null</td><td>\n",
       "A prequel, set before the events of Army of the Dead, which focuses on German safecracker Ludwig Dieter leading a group of aspiring thieves on a top secret heist during the early stages of the zombie apocalypse.</td><td>\n",
       "    Director:\n",
       "Matthias Schweighöfer\n",
       "| \n",
       "    Stars:\n",
       "Matthias Schweighöfer, \n",
       "Nathalie Emmanuel, \n",
       "Ruby O. Fee, \n",
       "Stuart Martin\n",
       "</td><td>null</td><td>null</td><td>null</td></tr></tbody></table></div>"
      ]
     },
     "metadata": {
      "application/vnd.databricks.v1+output": {
       "addedWidgets": {},
       "aggData": [],
       "aggError": "",
       "aggOverflow": false,
       "aggSchema": [],
       "aggSeriesLimitReached": false,
       "aggType": "",
       "arguments": {},
       "columnCustomDisplayInfos": {},
       "data": [
        [
         "Blood Red Sky",
         2021,
         "\nAction, Horror, Thriller            ",
         6.1,
         "\nA woman with a mysterious illness is forced into action when a group of terrorists attempt to hijack a transatlantic overnight flight.",
         "\n    Director:\nPeter Thorwarth\n| \n    Stars:\nPeri Baumeister, \nCarl Anton Koch, \nAlexander Scheer, \nKais Setti\n",
         "21,062",
         121,
         null
        ],
        [
         "Masters of the Universe: Revelation",
         2021,
         "\nAnimation, Action, Adventure            ",
         5.0,
         "\nThe war for Eternia begins again in what may be the final battle between He-Man and Skeletor. A new animated series from writer-director Kevin Smith.",
         "\n            \n    Stars:\nChris Wood, \nSarah Michelle Gellar, \nLena Headey, \nMark Hamill\n",
         "17,870",
         25,
         null
        ],
        [
         "The Walking Dead",
         2010,
         "\nDrama, Horror, Thriller            ",
         8.2,
         "\nSheriff Deputy Rick Grimes wakes up from a coma to learn the world is in ruins and must lead a group of survivors to stay alive.",
         "\n            \n    Stars:\nAndrew Lincoln, \nNorman Reedus, \nMelissa McBride, \nLauren Cohan\n",
         "885,805",
         44,
         null
        ],
        [
         "Rick and Morty",
         2013,
         "\nAnimation, Adventure, Comedy            ",
         9.2,
         "\nAn animated series that follows the exploits of a super scientist and his not-so-bright grandson.",
         "\n            \n    Stars:\nJustin Roiland, \nChris Parnell, \nSpencer Grammer, \nSarah Chalke\n",
         "414,849",
         23,
         null
        ],
        [
         "Army of Thieves",
         2021,
         "\nAction, Crime, Horror            ",
         null,
         "\nA prequel, set before the events of Army of the Dead, which focuses on German safecracker Ludwig Dieter leading a group of aspiring thieves on a top secret heist during the early stages of the zombie apocalypse.",
         "\n    Director:\nMatthias Schweighöfer\n| \n    Stars:\nMatthias Schweighöfer, \nNathalie Emmanuel, \nRuby O. Fee, \nStuart Martin\n",
         null,
         null,
         null
        ]
       ],
       "datasetInfos": [],
       "dbfsResultPath": null,
       "isJsonSchema": true,
       "metadata": {},
       "overflow": false,
       "plotOptions": {
        "customPlotOptions": {},
        "displayType": "table",
        "pivotAggregation": null,
        "pivotColumns": null,
        "xColumns": null,
        "yColumns": null
       },
       "removedWidgets": [],
       "schema": [
        {
         "metadata": "{}",
         "name": "MOVIES",
         "type": "\"string\""
        },
        {
         "metadata": "{}",
         "name": "YEAR",
         "type": "\"integer\""
        },
        {
         "metadata": "{}",
         "name": "GENRE",
         "type": "\"string\""
        },
        {
         "metadata": "{}",
         "name": "RATING",
         "type": "\"double\""
        },
        {
         "metadata": "{}",
         "name": "ONE-LINE",
         "type": "\"string\""
        },
        {
         "metadata": "{}",
         "name": "STARS",
         "type": "\"string\""
        },
        {
         "metadata": "{}",
         "name": "VOTES",
         "type": "\"string\""
        },
        {
         "metadata": "{}",
         "name": "RunTime",
         "type": "\"integer\""
        },
        {
         "metadata": "{}",
         "name": "Gross",
         "type": "\"string\""
        }
       ],
       "type": "table"
      }
     },
     "output_type": "display_data"
    }
   ],
   "source": [
    "#Null values in the GENRE column were replaced with 'Unknown' to ensure all records have a valid genre for analysis.\n",
    "\n",
    "df_cleaned = (\n",
    "    df_cleaned\n",
    "    .fillna({\"GENRE\": 'Unknown'}) \n",
    ")\n",
    "\n",
    "df_cleaned.limit(5).display()"
   ]
  },
  {
   "cell_type": "code",
   "execution_count": 0,
   "metadata": {
    "application/vnd.databricks.v1+cell": {
     "cellMetadata": {
      "byteLimit": 2048000,
      "rowLimit": 10000
     },
     "inputWidgets": {},
     "nuid": "689dbe9f-fc6b-41aa-a7ff-4868d1ce5353",
     "showTitle": false,
     "tableResultSettingsMap": {},
     "title": ""
    }
   },
   "outputs": [
    {
     "output_type": "display_data",
     "data": {
      "text/html": [
       "<style scoped>\n",
       "  .table-result-container {\n",
       "    max-height: 300px;\n",
       "    overflow: auto;\n",
       "  }\n",
       "  table, th, td {\n",
       "    border: 1px solid black;\n",
       "    border-collapse: collapse;\n",
       "  }\n",
       "  th, td {\n",
       "    padding: 5px;\n",
       "  }\n",
       "  th {\n",
       "    text-align: left;\n",
       "  }\n",
       "</style><div class='table-result-container'><table class='table-result'><thead style='background-color: white'><tr><th>MOVIES</th><th>YEAR</th><th>GENRE</th><th>RATING</th><th>ONE-LINE</th><th>STARS</th><th>VOTES</th><th>RunTime</th><th>Gross</th></tr></thead><tbody><tr><td>Blood Red Sky</td><td>2021</td><td>\n",
       "Action, Horror, Thriller            </td><td>6.1</td><td>\n",
       "A woman with a mysterious illness is forced into action when a group of terrorists attempt to hijack a transatlantic overnight flight.</td><td>\n",
       "    Director:\n",
       "Peter Thorwarth\n",
       "| \n",
       "    Stars:\n",
       "Peri Baumeister, \n",
       "Carl Anton Koch, \n",
       "Alexander Scheer, \n",
       "Kais Setti\n",
       "</td><td>21,062</td><td>121</td><td>null</td></tr><tr><td>Masters of the Universe: Revelation</td><td>2021</td><td>\n",
       "Animation, Action, Adventure            </td><td>5.0</td><td>\n",
       "The war for Eternia begins again in what may be the final battle between He-Man and Skeletor. A new animated series from writer-director Kevin Smith.</td><td>\n",
       "            \n",
       "    Stars:\n",
       "Chris Wood, \n",
       "Sarah Michelle Gellar, \n",
       "Lena Headey, \n",
       "Mark Hamill\n",
       "</td><td>17,870</td><td>25</td><td>null</td></tr><tr><td>The Walking Dead</td><td>2010</td><td>\n",
       "Drama, Horror, Thriller            </td><td>8.2</td><td>\n",
       "Sheriff Deputy Rick Grimes wakes up from a coma to learn the world is in ruins and must lead a group of survivors to stay alive.</td><td>\n",
       "            \n",
       "    Stars:\n",
       "Andrew Lincoln, \n",
       "Norman Reedus, \n",
       "Melissa McBride, \n",
       "Lauren Cohan\n",
       "</td><td>885,805</td><td>44</td><td>null</td></tr><tr><td>Rick and Morty</td><td>2013</td><td>\n",
       "Animation, Adventure, Comedy            </td><td>9.2</td><td>\n",
       "An animated series that follows the exploits of a super scientist and his not-so-bright grandson.</td><td>\n",
       "            \n",
       "    Stars:\n",
       "Justin Roiland, \n",
       "Chris Parnell, \n",
       "Spencer Grammer, \n",
       "Sarah Chalke\n",
       "</td><td>414,849</td><td>23</td><td>null</td></tr><tr><td>Army of Thieves</td><td>2021</td><td>\n",
       "Action, Crime, Horror            </td><td>7.1</td><td>\n",
       "A prequel, set before the events of Army of the Dead, which focuses on German safecracker Ludwig Dieter leading a group of aspiring thieves on a top secret heist during the early stages of the zombie apocalypse.</td><td>\n",
       "    Director:\n",
       "Matthias Schweighöfer\n",
       "| \n",
       "    Stars:\n",
       "Matthias Schweighöfer, \n",
       "Nathalie Emmanuel, \n",
       "Ruby O. Fee, \n",
       "Stuart Martin\n",
       "</td><td>null</td><td>null</td><td>null</td></tr></tbody></table></div>"
      ]
     },
     "metadata": {
      "application/vnd.databricks.v1+output": {
       "addedWidgets": {},
       "aggData": [],
       "aggError": "",
       "aggOverflow": false,
       "aggSchema": [],
       "aggSeriesLimitReached": false,
       "aggType": "",
       "arguments": {},
       "columnCustomDisplayInfos": {},
       "data": [
        [
         "Blood Red Sky",
         2021,
         "\nAction, Horror, Thriller            ",
         6.1,
         "\nA woman with a mysterious illness is forced into action when a group of terrorists attempt to hijack a transatlantic overnight flight.",
         "\n    Director:\nPeter Thorwarth\n| \n    Stars:\nPeri Baumeister, \nCarl Anton Koch, \nAlexander Scheer, \nKais Setti\n",
         "21,062",
         121,
         null
        ],
        [
         "Masters of the Universe: Revelation",
         2021,
         "\nAnimation, Action, Adventure            ",
         5.0,
         "\nThe war for Eternia begins again in what may be the final battle between He-Man and Skeletor. A new animated series from writer-director Kevin Smith.",
         "\n            \n    Stars:\nChris Wood, \nSarah Michelle Gellar, \nLena Headey, \nMark Hamill\n",
         "17,870",
         25,
         null
        ],
        [
         "The Walking Dead",
         2010,
         "\nDrama, Horror, Thriller            ",
         8.2,
         "\nSheriff Deputy Rick Grimes wakes up from a coma to learn the world is in ruins and must lead a group of survivors to stay alive.",
         "\n            \n    Stars:\nAndrew Lincoln, \nNorman Reedus, \nMelissa McBride, \nLauren Cohan\n",
         "885,805",
         44,
         null
        ],
        [
         "Rick and Morty",
         2013,
         "\nAnimation, Adventure, Comedy            ",
         9.2,
         "\nAn animated series that follows the exploits of a super scientist and his not-so-bright grandson.",
         "\n            \n    Stars:\nJustin Roiland, \nChris Parnell, \nSpencer Grammer, \nSarah Chalke\n",
         "414,849",
         23,
         null
        ],
        [
         "Army of Thieves",
         2021,
         "\nAction, Crime, Horror            ",
         7.1,
         "\nA prequel, set before the events of Army of the Dead, which focuses on German safecracker Ludwig Dieter leading a group of aspiring thieves on a top secret heist during the early stages of the zombie apocalypse.",
         "\n    Director:\nMatthias Schweighöfer\n| \n    Stars:\nMatthias Schweighöfer, \nNathalie Emmanuel, \nRuby O. Fee, \nStuart Martin\n",
         null,
         null,
         null
        ]
       ],
       "datasetInfos": [],
       "dbfsResultPath": null,
       "isJsonSchema": true,
       "metadata": {},
       "overflow": false,
       "plotOptions": {
        "customPlotOptions": {},
        "displayType": "table",
        "pivotAggregation": null,
        "pivotColumns": null,
        "xColumns": null,
        "yColumns": null
       },
       "removedWidgets": [],
       "schema": [
        {
         "metadata": "{}",
         "name": "MOVIES",
         "type": "\"string\""
        },
        {
         "metadata": "{}",
         "name": "YEAR",
         "type": "\"integer\""
        },
        {
         "metadata": "{}",
         "name": "GENRE",
         "type": "\"string\""
        },
        {
         "metadata": "{}",
         "name": "RATING",
         "type": "\"double\""
        },
        {
         "metadata": "{}",
         "name": "ONE-LINE",
         "type": "\"string\""
        },
        {
         "metadata": "{}",
         "name": "STARS",
         "type": "\"string\""
        },
        {
         "metadata": "{}",
         "name": "VOTES",
         "type": "\"string\""
        },
        {
         "metadata": "{}",
         "name": "RunTime",
         "type": "\"integer\""
        },
        {
         "metadata": "{}",
         "name": "Gross",
         "type": "\"string\""
        }
       ],
       "type": "table"
      }
     },
     "output_type": "display_data"
    }
   ],
   "source": [
    "'''ull values in the RATING column were replaced with the median rating to maintain a representative value and avoid skewing analyses.'''\n",
    "\n",
    "# Calculating median\n",
    "median_rating = df_cleaned.approxQuantile(\"RATING\", [0.5], 0.01)[0]\n",
    "\n",
    "# Fill null ratings with median\n",
    "df_cleaned = df_cleaned.fillna({\"RATING\": median_rating})\n",
    "\n",
    "df_cleaned.limit(5).display()\n"
   ]
  },
  {
   "cell_type": "code",
   "execution_count": 0,
   "metadata": {
    "application/vnd.databricks.v1+cell": {
     "cellMetadata": {
      "byteLimit": 2048000,
      "rowLimit": 10000
     },
     "inputWidgets": {},
     "nuid": "06bb4203-18ab-43d1-a812-0736de2c0030",
     "showTitle": false,
     "tableResultSettingsMap": {},
     "title": ""
    }
   },
   "outputs": [],
   "source": [
    "'''Null values in the VOTES column were replaced with 0 to ensure all records have a numeric value, preventing errors in calculations and aggregations'''\n",
    "\n",
    "df_cleaned = (\n",
    "    df_cleaned\n",
    "    .fillna({\"VOTES\": 0}) \n",
    ")"
   ]
  },
  {
   "cell_type": "code",
   "execution_count": 0,
   "metadata": {
    "application/vnd.databricks.v1+cell": {
     "cellMetadata": {
      "byteLimit": 2048000,
      "rowLimit": 10000
     },
     "inputWidgets": {},
     "nuid": "37cfecf1-18f7-4349-af34-3e852de8f414",
     "showTitle": false,
     "tableResultSettingsMap": {},
     "title": ""
    }
   },
   "outputs": [
    {
     "output_type": "display_data",
     "data": {
      "text/html": [
       "<style scoped>\n",
       "  .table-result-container {\n",
       "    max-height: 300px;\n",
       "    overflow: auto;\n",
       "  }\n",
       "  table, th, td {\n",
       "    border: 1px solid black;\n",
       "    border-collapse: collapse;\n",
       "  }\n",
       "  th, td {\n",
       "    padding: 5px;\n",
       "  }\n",
       "  th {\n",
       "    text-align: left;\n",
       "  }\n",
       "</style><div class='table-result-container'><table class='table-result'><thead style='background-color: white'><tr><th>MOVIES</th><th>YEAR</th><th>GENRE</th><th>RATING</th><th>ONE-LINE</th><th>STARS</th><th>VOTES</th><th>RunTime</th><th>Gross</th></tr></thead><tbody><tr><td>Blood Red Sky</td><td>2021</td><td>\n",
       "Action, Horror, Thriller            </td><td>6.1</td><td>\n",
       "A woman with a mysterious illness is forced into action when a group of terrorists attempt to hijack a transatlantic overnight flight.</td><td>\n",
       "    Director:\n",
       "Peter Thorwarth\n",
       "| \n",
       "    Stars:\n",
       "Peri Baumeister, \n",
       "Carl Anton Koch, \n",
       "Alexander Scheer, \n",
       "Kais Setti\n",
       "</td><td>21,062</td><td>121</td><td>null</td></tr><tr><td>Masters of the Universe: Revelation</td><td>2021</td><td>\n",
       "Animation, Action, Adventure            </td><td>5.0</td><td>\n",
       "The war for Eternia begins again in what may be the final battle between He-Man and Skeletor. A new animated series from writer-director Kevin Smith.</td><td>\n",
       "            \n",
       "    Stars:\n",
       "Chris Wood, \n",
       "Sarah Michelle Gellar, \n",
       "Lena Headey, \n",
       "Mark Hamill\n",
       "</td><td>17,870</td><td>25</td><td>null</td></tr><tr><td>The Walking Dead</td><td>2010</td><td>\n",
       "Drama, Horror, Thriller            </td><td>8.2</td><td>\n",
       "Sheriff Deputy Rick Grimes wakes up from a coma to learn the world is in ruins and must lead a group of survivors to stay alive.</td><td>\n",
       "            \n",
       "    Stars:\n",
       "Andrew Lincoln, \n",
       "Norman Reedus, \n",
       "Melissa McBride, \n",
       "Lauren Cohan\n",
       "</td><td>885,805</td><td>44</td><td>null</td></tr><tr><td>Rick and Morty</td><td>2013</td><td>\n",
       "Animation, Adventure, Comedy            </td><td>9.2</td><td>\n",
       "An animated series that follows the exploits of a super scientist and his not-so-bright grandson.</td><td>\n",
       "            \n",
       "    Stars:\n",
       "Justin Roiland, \n",
       "Chris Parnell, \n",
       "Spencer Grammer, \n",
       "Sarah Chalke\n",
       "</td><td>414,849</td><td>23</td><td>null</td></tr><tr><td>Army of Thieves</td><td>2021</td><td>\n",
       "Action, Crime, Horror            </td><td>7.1</td><td>\n",
       "A prequel, set before the events of Army of the Dead, which focuses on German safecracker Ludwig Dieter leading a group of aspiring thieves on a top secret heist during the early stages of the zombie apocalypse.</td><td>\n",
       "    Director:\n",
       "Matthias Schweighöfer\n",
       "| \n",
       "    Stars:\n",
       "Matthias Schweighöfer, \n",
       "Nathalie Emmanuel, \n",
       "Ruby O. Fee, \n",
       "Stuart Martin\n",
       "</td><td>0</td><td>60</td><td>null</td></tr></tbody></table></div>"
      ]
     },
     "metadata": {
      "application/vnd.databricks.v1+output": {
       "addedWidgets": {},
       "aggData": [],
       "aggError": "",
       "aggOverflow": false,
       "aggSchema": [],
       "aggSeriesLimitReached": false,
       "aggType": "",
       "arguments": {},
       "columnCustomDisplayInfos": {},
       "data": [
        [
         "Blood Red Sky",
         2021,
         "\nAction, Horror, Thriller            ",
         6.1,
         "\nA woman with a mysterious illness is forced into action when a group of terrorists attempt to hijack a transatlantic overnight flight.",
         "\n    Director:\nPeter Thorwarth\n| \n    Stars:\nPeri Baumeister, \nCarl Anton Koch, \nAlexander Scheer, \nKais Setti\n",
         "21,062",
         121,
         null
        ],
        [
         "Masters of the Universe: Revelation",
         2021,
         "\nAnimation, Action, Adventure            ",
         5.0,
         "\nThe war for Eternia begins again in what may be the final battle between He-Man and Skeletor. A new animated series from writer-director Kevin Smith.",
         "\n            \n    Stars:\nChris Wood, \nSarah Michelle Gellar, \nLena Headey, \nMark Hamill\n",
         "17,870",
         25,
         null
        ],
        [
         "The Walking Dead",
         2010,
         "\nDrama, Horror, Thriller            ",
         8.2,
         "\nSheriff Deputy Rick Grimes wakes up from a coma to learn the world is in ruins and must lead a group of survivors to stay alive.",
         "\n            \n    Stars:\nAndrew Lincoln, \nNorman Reedus, \nMelissa McBride, \nLauren Cohan\n",
         "885,805",
         44,
         null
        ],
        [
         "Rick and Morty",
         2013,
         "\nAnimation, Adventure, Comedy            ",
         9.2,
         "\nAn animated series that follows the exploits of a super scientist and his not-so-bright grandson.",
         "\n            \n    Stars:\nJustin Roiland, \nChris Parnell, \nSpencer Grammer, \nSarah Chalke\n",
         "414,849",
         23,
         null
        ],
        [
         "Army of Thieves",
         2021,
         "\nAction, Crime, Horror            ",
         7.1,
         "\nA prequel, set before the events of Army of the Dead, which focuses on German safecracker Ludwig Dieter leading a group of aspiring thieves on a top secret heist during the early stages of the zombie apocalypse.",
         "\n    Director:\nMatthias Schweighöfer\n| \n    Stars:\nMatthias Schweighöfer, \nNathalie Emmanuel, \nRuby O. Fee, \nStuart Martin\n",
         "0",
         60,
         null
        ]
       ],
       "datasetInfos": [],
       "dbfsResultPath": null,
       "isJsonSchema": true,
       "metadata": {},
       "overflow": false,
       "plotOptions": {
        "customPlotOptions": {},
        "displayType": "table",
        "pivotAggregation": null,
        "pivotColumns": null,
        "xColumns": null,
        "yColumns": null
       },
       "removedWidgets": [],
       "schema": [
        {
         "metadata": "{}",
         "name": "MOVIES",
         "type": "\"string\""
        },
        {
         "metadata": "{}",
         "name": "YEAR",
         "type": "\"integer\""
        },
        {
         "metadata": "{}",
         "name": "GENRE",
         "type": "\"string\""
        },
        {
         "metadata": "{}",
         "name": "RATING",
         "type": "\"double\""
        },
        {
         "metadata": "{}",
         "name": "ONE-LINE",
         "type": "\"string\""
        },
        {
         "metadata": "{}",
         "name": "STARS",
         "type": "\"string\""
        },
        {
         "metadata": "{}",
         "name": "VOTES",
         "type": "\"string\""
        },
        {
         "metadata": "{}",
         "name": "RunTime",
         "type": "\"integer\""
        },
        {
         "metadata": "{}",
         "name": "Gross",
         "type": "\"string\""
        }
       ],
       "type": "table"
      }
     },
     "output_type": "display_data"
    }
   ],
   "source": [
    "'''Null values in the RunTime column were replaced with the median runtime to maintain a representative value and ensure consistency in analyses involving movie durations.'''\n",
    "\n",
    "# Median of Runtime\n",
    "median_runtime = df_cleaned.approxQuantile(\"RunTime\", [0.5], 0.01)[0]\n",
    "# print(median_runtime)\n",
    "\n",
    "# Fill null ratings with median\n",
    "df_cleaned = df_cleaned.fillna({\"RunTime\": median_runtime})\n",
    "\n",
    "df_cleaned.limit(5).display()"
   ]
  },
  {
   "cell_type": "code",
   "execution_count": 0,
   "metadata": {
    "application/vnd.databricks.v1+cell": {
     "cellMetadata": {
      "byteLimit": 2048000,
      "rowLimit": 10000
     },
     "inputWidgets": {},
     "nuid": "3f994eb2-9e82-4ca6-b9ae-f4e7bb5d15e7",
     "showTitle": false,
     "tableResultSettingsMap": {},
     "title": ""
    }
   },
   "outputs": [
    {
     "output_type": "stream",
     "name": "stdout",
     "output_type": "stream",
     "text": [
      "Total rows: 9999\nNulls in Gross: 9539\nPercentage nulls: 95.40%\n"
     ]
    }
   ],
   "source": [
    "'''The Gross column contains many null values. To decide whether to keep or drop it, the percentage of nulls was calculated to assess its completeness and usefulness for analysis.'''\n",
    "\n",
    "from pyspark.sql import functions as F\n",
    "\n",
    "total_rows = df_cleaned.count()\n",
    "\n",
    "# null count in Gross\n",
    "null_count = df_cleaned.filter(F.col(\"Gross\").isNull()).count()\n",
    "\n",
    "print(f\"Total rows: {total_rows}\")\n",
    "print(f\"Nulls in Gross: {null_count}\")\n",
    "print(f\"Percentage nulls: {(null_count/total_rows)*100:.2f}%\")\n"
   ]
  },
  {
   "cell_type": "code",
   "execution_count": 0,
   "metadata": {
    "application/vnd.databricks.v1+cell": {
     "cellMetadata": {
      "byteLimit": 2048000,
      "rowLimit": 10000
     },
     "inputWidgets": {},
     "nuid": "406acd29-66c9-49a6-bbb1-c6e68e9a7754",
     "showTitle": false,
     "tableResultSettingsMap": {},
     "title": ""
    }
   },
   "outputs": [
    {
     "output_type": "display_data",
     "data": {
      "text/html": [
       "<style scoped>\n",
       "  .table-result-container {\n",
       "    max-height: 300px;\n",
       "    overflow: auto;\n",
       "  }\n",
       "  table, th, td {\n",
       "    border: 1px solid black;\n",
       "    border-collapse: collapse;\n",
       "  }\n",
       "  th, td {\n",
       "    padding: 5px;\n",
       "  }\n",
       "  th {\n",
       "    text-align: left;\n",
       "  }\n",
       "</style><div class='table-result-container'><table class='table-result'><thead style='background-color: white'><tr><th>MOVIES</th><th>YEAR</th><th>GENRE</th><th>RATING</th><th>ONE-LINE</th><th>STARS</th><th>VOTES</th><th>RunTime</th></tr></thead><tbody><tr><td>Blood Red Sky</td><td>2021</td><td>\n",
       "Action, Horror, Thriller            </td><td>6.1</td><td>\n",
       "A woman with a mysterious illness is forced into action when a group of terrorists attempt to hijack a transatlantic overnight flight.</td><td>\n",
       "    Director:\n",
       "Peter Thorwarth\n",
       "| \n",
       "    Stars:\n",
       "Peri Baumeister, \n",
       "Carl Anton Koch, \n",
       "Alexander Scheer, \n",
       "Kais Setti\n",
       "</td><td>21,062</td><td>121</td></tr><tr><td>Masters of the Universe: Revelation</td><td>2021</td><td>\n",
       "Animation, Action, Adventure            </td><td>5.0</td><td>\n",
       "The war for Eternia begins again in what may be the final battle between He-Man and Skeletor. A new animated series from writer-director Kevin Smith.</td><td>\n",
       "            \n",
       "    Stars:\n",
       "Chris Wood, \n",
       "Sarah Michelle Gellar, \n",
       "Lena Headey, \n",
       "Mark Hamill\n",
       "</td><td>17,870</td><td>25</td></tr><tr><td>The Walking Dead</td><td>2010</td><td>\n",
       "Drama, Horror, Thriller            </td><td>8.2</td><td>\n",
       "Sheriff Deputy Rick Grimes wakes up from a coma to learn the world is in ruins and must lead a group of survivors to stay alive.</td><td>\n",
       "            \n",
       "    Stars:\n",
       "Andrew Lincoln, \n",
       "Norman Reedus, \n",
       "Melissa McBride, \n",
       "Lauren Cohan\n",
       "</td><td>885,805</td><td>44</td></tr><tr><td>Rick and Morty</td><td>2013</td><td>\n",
       "Animation, Adventure, Comedy            </td><td>9.2</td><td>\n",
       "An animated series that follows the exploits of a super scientist and his not-so-bright grandson.</td><td>\n",
       "            \n",
       "    Stars:\n",
       "Justin Roiland, \n",
       "Chris Parnell, \n",
       "Spencer Grammer, \n",
       "Sarah Chalke\n",
       "</td><td>414,849</td><td>23</td></tr><tr><td>Army of Thieves</td><td>2021</td><td>\n",
       "Action, Crime, Horror            </td><td>7.1</td><td>\n",
       "A prequel, set before the events of Army of the Dead, which focuses on German safecracker Ludwig Dieter leading a group of aspiring thieves on a top secret heist during the early stages of the zombie apocalypse.</td><td>\n",
       "    Director:\n",
       "Matthias Schweighöfer\n",
       "| \n",
       "    Stars:\n",
       "Matthias Schweighöfer, \n",
       "Nathalie Emmanuel, \n",
       "Ruby O. Fee, \n",
       "Stuart Martin\n",
       "</td><td>0</td><td>60</td></tr></tbody></table></div>"
      ]
     },
     "metadata": {
      "application/vnd.databricks.v1+output": {
       "addedWidgets": {},
       "aggData": [],
       "aggError": "",
       "aggOverflow": false,
       "aggSchema": [],
       "aggSeriesLimitReached": false,
       "aggType": "",
       "arguments": {},
       "columnCustomDisplayInfos": {},
       "data": [
        [
         "Blood Red Sky",
         2021,
         "\nAction, Horror, Thriller            ",
         6.1,
         "\nA woman with a mysterious illness is forced into action when a group of terrorists attempt to hijack a transatlantic overnight flight.",
         "\n    Director:\nPeter Thorwarth\n| \n    Stars:\nPeri Baumeister, \nCarl Anton Koch, \nAlexander Scheer, \nKais Setti\n",
         "21,062",
         121
        ],
        [
         "Masters of the Universe: Revelation",
         2021,
         "\nAnimation, Action, Adventure            ",
         5.0,
         "\nThe war for Eternia begins again in what may be the final battle between He-Man and Skeletor. A new animated series from writer-director Kevin Smith.",
         "\n            \n    Stars:\nChris Wood, \nSarah Michelle Gellar, \nLena Headey, \nMark Hamill\n",
         "17,870",
         25
        ],
        [
         "The Walking Dead",
         2010,
         "\nDrama, Horror, Thriller            ",
         8.2,
         "\nSheriff Deputy Rick Grimes wakes up from a coma to learn the world is in ruins and must lead a group of survivors to stay alive.",
         "\n            \n    Stars:\nAndrew Lincoln, \nNorman Reedus, \nMelissa McBride, \nLauren Cohan\n",
         "885,805",
         44
        ],
        [
         "Rick and Morty",
         2013,
         "\nAnimation, Adventure, Comedy            ",
         9.2,
         "\nAn animated series that follows the exploits of a super scientist and his not-so-bright grandson.",
         "\n            \n    Stars:\nJustin Roiland, \nChris Parnell, \nSpencer Grammer, \nSarah Chalke\n",
         "414,849",
         23
        ],
        [
         "Army of Thieves",
         2021,
         "\nAction, Crime, Horror            ",
         7.1,
         "\nA prequel, set before the events of Army of the Dead, which focuses on German safecracker Ludwig Dieter leading a group of aspiring thieves on a top secret heist during the early stages of the zombie apocalypse.",
         "\n    Director:\nMatthias Schweighöfer\n| \n    Stars:\nMatthias Schweighöfer, \nNathalie Emmanuel, \nRuby O. Fee, \nStuart Martin\n",
         "0",
         60
        ]
       ],
       "datasetInfos": [],
       "dbfsResultPath": null,
       "isJsonSchema": true,
       "metadata": {},
       "overflow": false,
       "plotOptions": {
        "customPlotOptions": {},
        "displayType": "table",
        "pivotAggregation": null,
        "pivotColumns": null,
        "xColumns": null,
        "yColumns": null
       },
       "removedWidgets": [],
       "schema": [
        {
         "metadata": "{}",
         "name": "MOVIES",
         "type": "\"string\""
        },
        {
         "metadata": "{}",
         "name": "YEAR",
         "type": "\"integer\""
        },
        {
         "metadata": "{}",
         "name": "GENRE",
         "type": "\"string\""
        },
        {
         "metadata": "{}",
         "name": "RATING",
         "type": "\"double\""
        },
        {
         "metadata": "{}",
         "name": "ONE-LINE",
         "type": "\"string\""
        },
        {
         "metadata": "{}",
         "name": "STARS",
         "type": "\"string\""
        },
        {
         "metadata": "{}",
         "name": "VOTES",
         "type": "\"string\""
        },
        {
         "metadata": "{}",
         "name": "RunTime",
         "type": "\"integer\""
        }
       ],
       "type": "table"
      }
     },
     "output_type": "display_data"
    }
   ],
   "source": [
    "'''Since 95.4% of the Gross column values were null, the column was dropped. Even if nulls were handled, the remaining data would be too sparse and unreliable for meaningful analysis.'''\n",
    "\n",
    "df_silver = df_cleaned.drop(\"Gross\")\n",
    "\n",
    "df_silver.limit(5).display()"
   ]
  },
  {
   "cell_type": "code",
   "execution_count": 0,
   "metadata": {
    "application/vnd.databricks.v1+cell": {
     "cellMetadata": {
      "byteLimit": 2048000,
      "rowLimit": 10000
     },
     "inputWidgets": {},
     "nuid": "d373b387-3ab9-4a40-a5df-4dd1a1f8b496",
     "showTitle": false,
     "tableResultSettingsMap": {},
     "title": ""
    }
   },
   "outputs": [
    {
     "output_type": "display_data",
     "data": {
      "text/html": [
       "<style scoped>\n",
       "  .table-result-container {\n",
       "    max-height: 300px;\n",
       "    overflow: auto;\n",
       "  }\n",
       "  table, th, td {\n",
       "    border: 1px solid black;\n",
       "    border-collapse: collapse;\n",
       "  }\n",
       "  th, td {\n",
       "    padding: 5px;\n",
       "  }\n",
       "  th {\n",
       "    text-align: left;\n",
       "  }\n",
       "</style><div class='table-result-container'><table class='table-result'><thead style='background-color: white'><tr><th>MOVIES</th><th>YEAR</th><th>GENRE</th><th>RATING</th><th>ONE-LINE</th><th>STARS</th><th>VOTES</th><th>RunTime</th></tr></thead><tbody><tr><td>Blood Red Sky</td><td>2021</td><td>\n",
       "Action, Horror, Thriller            </td><td>6.1</td><td>\n",
       "A woman with a mysterious illness is forced into action when a group of terrorists attempt to hijack a transatlantic overnight flight.</td><td>\n",
       "    Director:\n",
       "Peter Thorwarth\n",
       "| \n",
       "    Stars:\n",
       "Peri Baumeister, \n",
       "Carl Anton Koch, \n",
       "Alexander Scheer, \n",
       "Kais Setti\n",
       "</td><td>21062</td><td>121</td></tr><tr><td>Masters of the Universe: Revelation</td><td>2021</td><td>\n",
       "Animation, Action, Adventure            </td><td>5.0</td><td>\n",
       "The war for Eternia begins again in what may be the final battle between He-Man and Skeletor. A new animated series from writer-director Kevin Smith.</td><td>\n",
       "            \n",
       "    Stars:\n",
       "Chris Wood, \n",
       "Sarah Michelle Gellar, \n",
       "Lena Headey, \n",
       "Mark Hamill\n",
       "</td><td>17870</td><td>25</td></tr><tr><td>The Walking Dead</td><td>2010</td><td>\n",
       "Drama, Horror, Thriller            </td><td>8.2</td><td>\n",
       "Sheriff Deputy Rick Grimes wakes up from a coma to learn the world is in ruins and must lead a group of survivors to stay alive.</td><td>\n",
       "            \n",
       "    Stars:\n",
       "Andrew Lincoln, \n",
       "Norman Reedus, \n",
       "Melissa McBride, \n",
       "Lauren Cohan\n",
       "</td><td>885805</td><td>44</td></tr><tr><td>Rick and Morty</td><td>2013</td><td>\n",
       "Animation, Adventure, Comedy            </td><td>9.2</td><td>\n",
       "An animated series that follows the exploits of a super scientist and his not-so-bright grandson.</td><td>\n",
       "            \n",
       "    Stars:\n",
       "Justin Roiland, \n",
       "Chris Parnell, \n",
       "Spencer Grammer, \n",
       "Sarah Chalke\n",
       "</td><td>414849</td><td>23</td></tr><tr><td>Army of Thieves</td><td>2021</td><td>\n",
       "Action, Crime, Horror            </td><td>7.1</td><td>\n",
       "A prequel, set before the events of Army of the Dead, which focuses on German safecracker Ludwig Dieter leading a group of aspiring thieves on a top secret heist during the early stages of the zombie apocalypse.</td><td>\n",
       "    Director:\n",
       "Matthias Schweighöfer\n",
       "| \n",
       "    Stars:\n",
       "Matthias Schweighöfer, \n",
       "Nathalie Emmanuel, \n",
       "Ruby O. Fee, \n",
       "Stuart Martin\n",
       "</td><td>0</td><td>60</td></tr></tbody></table></div>"
      ]
     },
     "metadata": {
      "application/vnd.databricks.v1+output": {
       "addedWidgets": {},
       "aggData": [],
       "aggError": "",
       "aggOverflow": false,
       "aggSchema": [],
       "aggSeriesLimitReached": false,
       "aggType": "",
       "arguments": {},
       "columnCustomDisplayInfos": {},
       "data": [
        [
         "Blood Red Sky",
         2021,
         "\nAction, Horror, Thriller            ",
         6.1,
         "\nA woman with a mysterious illness is forced into action when a group of terrorists attempt to hijack a transatlantic overnight flight.",
         "\n    Director:\nPeter Thorwarth\n| \n    Stars:\nPeri Baumeister, \nCarl Anton Koch, \nAlexander Scheer, \nKais Setti\n",
         21062,
         121
        ],
        [
         "Masters of the Universe: Revelation",
         2021,
         "\nAnimation, Action, Adventure            ",
         5.0,
         "\nThe war for Eternia begins again in what may be the final battle between He-Man and Skeletor. A new animated series from writer-director Kevin Smith.",
         "\n            \n    Stars:\nChris Wood, \nSarah Michelle Gellar, \nLena Headey, \nMark Hamill\n",
         17870,
         25
        ],
        [
         "The Walking Dead",
         2010,
         "\nDrama, Horror, Thriller            ",
         8.2,
         "\nSheriff Deputy Rick Grimes wakes up from a coma to learn the world is in ruins and must lead a group of survivors to stay alive.",
         "\n            \n    Stars:\nAndrew Lincoln, \nNorman Reedus, \nMelissa McBride, \nLauren Cohan\n",
         885805,
         44
        ],
        [
         "Rick and Morty",
         2013,
         "\nAnimation, Adventure, Comedy            ",
         9.2,
         "\nAn animated series that follows the exploits of a super scientist and his not-so-bright grandson.",
         "\n            \n    Stars:\nJustin Roiland, \nChris Parnell, \nSpencer Grammer, \nSarah Chalke\n",
         414849,
         23
        ],
        [
         "Army of Thieves",
         2021,
         "\nAction, Crime, Horror            ",
         7.1,
         "\nA prequel, set before the events of Army of the Dead, which focuses on German safecracker Ludwig Dieter leading a group of aspiring thieves on a top secret heist during the early stages of the zombie apocalypse.",
         "\n    Director:\nMatthias Schweighöfer\n| \n    Stars:\nMatthias Schweighöfer, \nNathalie Emmanuel, \nRuby O. Fee, \nStuart Martin\n",
         0,
         60
        ]
       ],
       "datasetInfos": [],
       "dbfsResultPath": null,
       "isJsonSchema": true,
       "metadata": {},
       "overflow": false,
       "plotOptions": {
        "customPlotOptions": {},
        "displayType": "table",
        "pivotAggregation": null,
        "pivotColumns": null,
        "xColumns": null,
        "yColumns": null
       },
       "removedWidgets": [],
       "schema": [
        {
         "metadata": "{}",
         "name": "MOVIES",
         "type": "\"string\""
        },
        {
         "metadata": "{}",
         "name": "YEAR",
         "type": "\"integer\""
        },
        {
         "metadata": "{}",
         "name": "GENRE",
         "type": "\"string\""
        },
        {
         "metadata": "{}",
         "name": "RATING",
         "type": "\"double\""
        },
        {
         "metadata": "{}",
         "name": "ONE-LINE",
         "type": "\"string\""
        },
        {
         "metadata": "{}",
         "name": "STARS",
         "type": "\"string\""
        },
        {
         "metadata": "{}",
         "name": "VOTES",
         "type": "\"long\""
        },
        {
         "metadata": "{}",
         "name": "RunTime",
         "type": "\"integer\""
        }
       ],
       "type": "table"
      }
     },
     "output_type": "display_data"
    }
   ],
   "source": [
    "'''The VOTES column could not be directly cast to integer because it contained commas. A regular expression was used to remove all non-numeric characters, and the column was then cast to a long type for accurate numeric analysis.'''\n",
    "\n",
    "from pyspark.sql.functions import regexp_replace, col\n",
    "\n",
    "df_silver = df_silver.withColumn(\n",
    "    \"VOTES\",\n",
    "    regexp_replace(col(\"VOTES\"), \"[^0-9]\", \"\").cast(\"long\")  # remove everything except digits\n",
    ")\n",
    "\n",
    "df_silver.limit(5).display()\n"
   ]
  },
  {
   "cell_type": "code",
   "execution_count": 0,
   "metadata": {
    "application/vnd.databricks.v1+cell": {
     "cellMetadata": {
      "byteLimit": 2048000,
      "rowLimit": 10000
     },
     "inputWidgets": {},
     "nuid": "9727fcd9-4c4c-4562-9a2e-e7b796b80c74",
     "showTitle": false,
     "tableResultSettingsMap": {},
     "title": ""
    }
   },
   "outputs": [],
   "source": [
    "'''The cleaned Silver DataFrame was written to the ADLS Silver layer in Delta format using overwrite mode.'''\n",
    "\n",
    "ADLS_Silver_path = \"/mnt/ADLSmount/silver/movies_dataset/\"\n",
    "\n",
    "df_silver.write.format(\"delta\") \\\n",
    "    .mode(\"overwrite\")\\\n",
    "    .save(ADLS_Silver_path)\n"
   ]
  },
  {
   "cell_type": "markdown",
   "metadata": {
    "application/vnd.databricks.v1+cell": {
     "cellMetadata": {},
     "inputWidgets": {},
     "nuid": "b3f44175-9c42-414d-9196-b6afe8db3a37",
     "showTitle": false,
     "tableResultSettingsMap": {},
     "title": ""
    }
   },
   "source": [
    "#####Silver dataset is present in ADLS in Parquet format\n",
    "![Silver Layer in ADLS](https://adb-582130891499017.17.azuredatabricks.net/files/tables/ADLSsnipSilver.png)"
   ]
  },
  {
   "cell_type": "code",
   "execution_count": 0,
   "metadata": {
    "application/vnd.databricks.v1+cell": {
     "cellMetadata": {
      "byteLimit": 2048000,
      "rowLimit": 10000
     },
     "inputWidgets": {},
     "nuid": "3fb1d6f2-276c-4a17-b53b-4382f260e81d",
     "showTitle": false,
     "tableResultSettingsMap": {},
     "title": ""
    }
   },
   "outputs": [
    {
     "output_type": "execute_result",
     "data": {
      "text/plain": [
       "DataFrame[]"
      ]
     },
     "execution_count": 18,
     "metadata": {},
     "output_type": "execute_result"
    }
   ],
   "source": [
    "# Delta table was created on the Silver layer using the data stored in ADLS\n",
    "\n",
    "spark.sql(\"\"\"\n",
    "    CREATE TABLE IF NOT EXISTS delta_table_silver\n",
    "    USING DELTA\n",
    "    LOCATION '{}'\n",
    "\"\"\".format(ADLS_Silver_path))"
   ]
  },
  {
   "cell_type": "code",
   "execution_count": 0,
   "metadata": {
    "application/vnd.databricks.v1+cell": {
     "cellMetadata": {
      "byteLimit": 2048000,
      "implicitDf": true,
      "rowLimit": 10000
     },
     "inputWidgets": {},
     "nuid": "f79583fa-3b94-44bd-993a-ff8880e8cb57",
     "showTitle": false,
     "tableResultSettingsMap": {},
     "title": ""
    }
   },
   "outputs": [
    {
     "output_type": "display_data",
     "data": {
      "text/html": [
       "<style scoped>\n",
       "  .table-result-container {\n",
       "    max-height: 300px;\n",
       "    overflow: auto;\n",
       "  }\n",
       "  table, th, td {\n",
       "    border: 1px solid black;\n",
       "    border-collapse: collapse;\n",
       "  }\n",
       "  th, td {\n",
       "    padding: 5px;\n",
       "  }\n",
       "  th {\n",
       "    text-align: left;\n",
       "  }\n",
       "</style><div class='table-result-container'><table class='table-result'><thead style='background-color: white'><tr><th>MOVIES</th><th>YEAR</th><th>GENRE</th><th>RATING</th><th>ONE-LINE</th><th>STARS</th><th>VOTES</th><th>RunTime</th></tr></thead><tbody><tr><td>Blood Red Sky</td><td>2021</td><td>\n",
       "Action, Horror, Thriller            </td><td>6.1</td><td>\n",
       "A woman with a mysterious illness is forced into action when a group of terrorists attempt to hijack a transatlantic overnight flight.</td><td>\n",
       "    Director:\n",
       "Peter Thorwarth\n",
       "| \n",
       "    Stars:\n",
       "Peri Baumeister, \n",
       "Carl Anton Koch, \n",
       "Alexander Scheer, \n",
       "Kais Setti\n",
       "</td><td>21062</td><td>121</td></tr><tr><td>Masters of the Universe: Revelation</td><td>2021</td><td>\n",
       "Animation, Action, Adventure            </td><td>5.0</td><td>\n",
       "The war for Eternia begins again in what may be the final battle between He-Man and Skeletor. A new animated series from writer-director Kevin Smith.</td><td>\n",
       "            \n",
       "    Stars:\n",
       "Chris Wood, \n",
       "Sarah Michelle Gellar, \n",
       "Lena Headey, \n",
       "Mark Hamill\n",
       "</td><td>17870</td><td>25</td></tr><tr><td>The Walking Dead</td><td>2010</td><td>\n",
       "Drama, Horror, Thriller            </td><td>8.2</td><td>\n",
       "Sheriff Deputy Rick Grimes wakes up from a coma to learn the world is in ruins and must lead a group of survivors to stay alive.</td><td>\n",
       "            \n",
       "    Stars:\n",
       "Andrew Lincoln, \n",
       "Norman Reedus, \n",
       "Melissa McBride, \n",
       "Lauren Cohan\n",
       "</td><td>885805</td><td>44</td></tr><tr><td>Rick and Morty</td><td>2013</td><td>\n",
       "Animation, Adventure, Comedy            </td><td>9.2</td><td>\n",
       "An animated series that follows the exploits of a super scientist and his not-so-bright grandson.</td><td>\n",
       "            \n",
       "    Stars:\n",
       "Justin Roiland, \n",
       "Chris Parnell, \n",
       "Spencer Grammer, \n",
       "Sarah Chalke\n",
       "</td><td>414849</td><td>23</td></tr><tr><td>Army of Thieves</td><td>2021</td><td>\n",
       "Action, Crime, Horror            </td><td>7.1</td><td>\n",
       "A prequel, set before the events of Army of the Dead, which focuses on German safecracker Ludwig Dieter leading a group of aspiring thieves on a top secret heist during the early stages of the zombie apocalypse.</td><td>\n",
       "    Director:\n",
       "Matthias Schweighöfer\n",
       "| \n",
       "    Stars:\n",
       "Matthias Schweighöfer, \n",
       "Nathalie Emmanuel, \n",
       "Ruby O. Fee, \n",
       "Stuart Martin\n",
       "</td><td>0</td><td>60</td></tr></tbody></table></div>"
      ]
     },
     "metadata": {
      "application/vnd.databricks.v1+output": {
       "addedWidgets": {},
       "aggData": [],
       "aggError": "",
       "aggOverflow": false,
       "aggSchema": [],
       "aggSeriesLimitReached": false,
       "aggType": "",
       "arguments": {},
       "columnCustomDisplayInfos": {},
       "data": [
        [
         "Blood Red Sky",
         2021,
         "\nAction, Horror, Thriller            ",
         6.1,
         "\nA woman with a mysterious illness is forced into action when a group of terrorists attempt to hijack a transatlantic overnight flight.",
         "\n    Director:\nPeter Thorwarth\n| \n    Stars:\nPeri Baumeister, \nCarl Anton Koch, \nAlexander Scheer, \nKais Setti\n",
         21062,
         121
        ],
        [
         "Masters of the Universe: Revelation",
         2021,
         "\nAnimation, Action, Adventure            ",
         5.0,
         "\nThe war for Eternia begins again in what may be the final battle between He-Man and Skeletor. A new animated series from writer-director Kevin Smith.",
         "\n            \n    Stars:\nChris Wood, \nSarah Michelle Gellar, \nLena Headey, \nMark Hamill\n",
         17870,
         25
        ],
        [
         "The Walking Dead",
         2010,
         "\nDrama, Horror, Thriller            ",
         8.2,
         "\nSheriff Deputy Rick Grimes wakes up from a coma to learn the world is in ruins and must lead a group of survivors to stay alive.",
         "\n            \n    Stars:\nAndrew Lincoln, \nNorman Reedus, \nMelissa McBride, \nLauren Cohan\n",
         885805,
         44
        ],
        [
         "Rick and Morty",
         2013,
         "\nAnimation, Adventure, Comedy            ",
         9.2,
         "\nAn animated series that follows the exploits of a super scientist and his not-so-bright grandson.",
         "\n            \n    Stars:\nJustin Roiland, \nChris Parnell, \nSpencer Grammer, \nSarah Chalke\n",
         414849,
         23
        ],
        [
         "Army of Thieves",
         2021,
         "\nAction, Crime, Horror            ",
         7.1,
         "\nA prequel, set before the events of Army of the Dead, which focuses on German safecracker Ludwig Dieter leading a group of aspiring thieves on a top secret heist during the early stages of the zombie apocalypse.",
         "\n    Director:\nMatthias Schweighöfer\n| \n    Stars:\nMatthias Schweighöfer, \nNathalie Emmanuel, \nRuby O. Fee, \nStuart Martin\n",
         0,
         60
        ]
       ],
       "datasetInfos": [],
       "dbfsResultPath": null,
       "isJsonSchema": true,
       "metadata": {
        "dataframeName": "_sqldf",
        "executionCount": 19
       },
       "overflow": false,
       "plotOptions": {
        "customPlotOptions": {},
        "displayType": "table",
        "pivotAggregation": null,
        "pivotColumns": null,
        "xColumns": null,
        "yColumns": null
       },
       "removedWidgets": [],
       "schema": [
        {
         "metadata": "{}",
         "name": "MOVIES",
         "type": "\"string\""
        },
        {
         "metadata": "{}",
         "name": "YEAR",
         "type": "\"integer\""
        },
        {
         "metadata": "{}",
         "name": "GENRE",
         "type": "\"string\""
        },
        {
         "metadata": "{}",
         "name": "RATING",
         "type": "\"double\""
        },
        {
         "metadata": "{}",
         "name": "ONE-LINE",
         "type": "\"string\""
        },
        {
         "metadata": "{}",
         "name": "STARS",
         "type": "\"string\""
        },
        {
         "metadata": "{}",
         "name": "VOTES",
         "type": "\"long\""
        },
        {
         "metadata": "{}",
         "name": "RunTime",
         "type": "\"integer\""
        }
       ],
       "type": "table"
      }
     },
     "output_type": "display_data"
    }
   ],
   "source": [
    "%sql\n",
    "SELECT * FROM delta_table_silver where LIMIT 5;\n"
   ]
  }
 ],
 "metadata": {
  "application/vnd.databricks.v1+notebook": {
   "computePreferences": null,
   "dashboards": [],
   "environmentMetadata": {
    "base_environment": "",
    "environment_version": "2"
   },
   "inputWidgetPreferences": null,
   "language": "python",
   "notebookMetadata": {
    "mostRecentlyExecutedCommandWithImplicitDF": {
     "commandId": 8131451852024906,
     "dataframes": [
      "_sqldf"
     ]
    },
    "pythonIndentUnit": 4
   },
   "notebookName": "Transform",
   "widgets": {}
  },
  "language_info": {
   "name": "python"
  }
 },
 "nbformat": 4,
 "nbformat_minor": 0
}