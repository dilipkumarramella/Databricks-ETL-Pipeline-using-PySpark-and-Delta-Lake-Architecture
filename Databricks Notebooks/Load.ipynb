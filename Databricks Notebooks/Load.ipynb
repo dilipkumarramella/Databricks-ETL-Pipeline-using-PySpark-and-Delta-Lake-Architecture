{
 "cells": [
  {
   "cell_type": "code",
   "execution_count": 0,
   "metadata": {
    "application/vnd.databricks.v1+cell": {
     "cellMetadata": {
      "byteLimit": 2048000,
      "rowLimit": 10000
     },
     "inputWidgets": {},
     "nuid": "8b490a6e-00af-497a-84b2-00d8f1e4f7bb",
     "showTitle": false,
     "tableResultSettingsMap": {},
     "title": ""
    }
   },
   "outputs": [
    {
     "output_type": "display_data",
     "data": {
      "text/html": [
       "<style scoped>\n",
       "  .table-result-container {\n",
       "    max-height: 300px;\n",
       "    overflow: auto;\n",
       "  }\n",
       "  table, th, td {\n",
       "    border: 1px solid black;\n",
       "    border-collapse: collapse;\n",
       "  }\n",
       "  th, td {\n",
       "    padding: 5px;\n",
       "  }\n",
       "  th {\n",
       "    text-align: left;\n",
       "  }\n",
       "</style><div class='table-result-container'><table class='table-result'><thead style='background-color: white'><tr><th>MOVIES</th><th>YEAR</th><th>GENRE</th><th>RATING</th><th>ONE-LINE</th><th>STARS</th><th>VOTES</th><th>RunTime</th></tr></thead><tbody><tr><td>Blood Red Sky</td><td>2021</td><td>\n",
       "Action, Horror, Thriller            </td><td>6.1</td><td>\n",
       "A woman with a mysterious illness is forced into action when a group of terrorists attempt to hijack a transatlantic overnight flight.</td><td>\n",
       "    Director:\n",
       "Peter Thorwarth\n",
       "| \n",
       "    Stars:\n",
       "Peri Baumeister, \n",
       "Carl Anton Koch, \n",
       "Alexander Scheer, \n",
       "Kais Setti\n",
       "</td><td>21062</td><td>121</td></tr><tr><td>Masters of the Universe: Revelation</td><td>2021</td><td>\n",
       "Animation, Action, Adventure            </td><td>5.0</td><td>\n",
       "The war for Eternia begins again in what may be the final battle between He-Man and Skeletor. A new animated series from writer-director Kevin Smith.</td><td>\n",
       "            \n",
       "    Stars:\n",
       "Chris Wood, \n",
       "Sarah Michelle Gellar, \n",
       "Lena Headey, \n",
       "Mark Hamill\n",
       "</td><td>17870</td><td>25</td></tr><tr><td>The Walking Dead</td><td>2010</td><td>\n",
       "Drama, Horror, Thriller            </td><td>8.2</td><td>\n",
       "Sheriff Deputy Rick Grimes wakes up from a coma to learn the world is in ruins and must lead a group of survivors to stay alive.</td><td>\n",
       "            \n",
       "    Stars:\n",
       "Andrew Lincoln, \n",
       "Norman Reedus, \n",
       "Melissa McBride, \n",
       "Lauren Cohan\n",
       "</td><td>885805</td><td>44</td></tr><tr><td>Rick and Morty</td><td>2013</td><td>\n",
       "Animation, Adventure, Comedy            </td><td>9.2</td><td>\n",
       "An animated series that follows the exploits of a super scientist and his not-so-bright grandson.</td><td>\n",
       "            \n",
       "    Stars:\n",
       "Justin Roiland, \n",
       "Chris Parnell, \n",
       "Spencer Grammer, \n",
       "Sarah Chalke\n",
       "</td><td>414849</td><td>23</td></tr><tr><td>Army of Thieves</td><td>2021</td><td>\n",
       "Action, Crime, Horror            </td><td>7.1</td><td>\n",
       "A prequel, set before the events of Army of the Dead, which focuses on German safecracker Ludwig Dieter leading a group of aspiring thieves on a top secret heist during the early stages of the zombie apocalypse.</td><td>\n",
       "    Director:\n",
       "Matthias Schweighöfer\n",
       "| \n",
       "    Stars:\n",
       "Matthias Schweighöfer, \n",
       "Nathalie Emmanuel, \n",
       "Ruby O. Fee, \n",
       "Stuart Martin\n",
       "</td><td>0</td><td>60</td></tr></tbody></table></div>"
      ]
     },
     "metadata": {
      "application/vnd.databricks.v1+output": {
       "addedWidgets": {},
       "aggData": [],
       "aggError": "",
       "aggOverflow": false,
       "aggSchema": [],
       "aggSeriesLimitReached": false,
       "aggType": "",
       "arguments": {},
       "columnCustomDisplayInfos": {},
       "data": [
        [
         "Blood Red Sky",
         2021,
         "\nAction, Horror, Thriller            ",
         6.1,
         "\nA woman with a mysterious illness is forced into action when a group of terrorists attempt to hijack a transatlantic overnight flight.",
         "\n    Director:\nPeter Thorwarth\n| \n    Stars:\nPeri Baumeister, \nCarl Anton Koch, \nAlexander Scheer, \nKais Setti\n",
         21062,
         121
        ],
        [
         "Masters of the Universe: Revelation",
         2021,
         "\nAnimation, Action, Adventure            ",
         5.0,
         "\nThe war for Eternia begins again in what may be the final battle between He-Man and Skeletor. A new animated series from writer-director Kevin Smith.",
         "\n            \n    Stars:\nChris Wood, \nSarah Michelle Gellar, \nLena Headey, \nMark Hamill\n",
         17870,
         25
        ],
        [
         "The Walking Dead",
         2010,
         "\nDrama, Horror, Thriller            ",
         8.2,
         "\nSheriff Deputy Rick Grimes wakes up from a coma to learn the world is in ruins and must lead a group of survivors to stay alive.",
         "\n            \n    Stars:\nAndrew Lincoln, \nNorman Reedus, \nMelissa McBride, \nLauren Cohan\n",
         885805,
         44
        ],
        [
         "Rick and Morty",
         2013,
         "\nAnimation, Adventure, Comedy            ",
         9.2,
         "\nAn animated series that follows the exploits of a super scientist and his not-so-bright grandson.",
         "\n            \n    Stars:\nJustin Roiland, \nChris Parnell, \nSpencer Grammer, \nSarah Chalke\n",
         414849,
         23
        ],
        [
         "Army of Thieves",
         2021,
         "\nAction, Crime, Horror            ",
         7.1,
         "\nA prequel, set before the events of Army of the Dead, which focuses on German safecracker Ludwig Dieter leading a group of aspiring thieves on a top secret heist during the early stages of the zombie apocalypse.",
         "\n    Director:\nMatthias Schweighöfer\n| \n    Stars:\nMatthias Schweighöfer, \nNathalie Emmanuel, \nRuby O. Fee, \nStuart Martin\n",
         0,
         60
        ]
       ],
       "datasetInfos": [],
       "dbfsResultPath": null,
       "isJsonSchema": true,
       "metadata": {},
       "overflow": false,
       "plotOptions": {
        "customPlotOptions": {},
        "displayType": "table",
        "pivotAggregation": null,
        "pivotColumns": null,
        "xColumns": null,
        "yColumns": null
       },
       "removedWidgets": [],
       "schema": [
        {
         "metadata": "{}",
         "name": "MOVIES",
         "type": "\"string\""
        },
        {
         "metadata": "{}",
         "name": "YEAR",
         "type": "\"integer\""
        },
        {
         "metadata": "{}",
         "name": "GENRE",
         "type": "\"string\""
        },
        {
         "metadata": "{}",
         "name": "RATING",
         "type": "\"double\""
        },
        {
         "metadata": "{}",
         "name": "ONE-LINE",
         "type": "\"string\""
        },
        {
         "metadata": "{}",
         "name": "STARS",
         "type": "\"string\""
        },
        {
         "metadata": "{}",
         "name": "VOTES",
         "type": "\"long\""
        },
        {
         "metadata": "{}",
         "name": "RunTime",
         "type": "\"integer\""
        }
       ],
       "type": "table"
      }
     },
     "output_type": "display_data"
    }
   ],
   "source": [
    "# Read silver data into Gold data frame\n",
    "\n",
    "df_gold = spark.table(\"delta_table_silver\")\n",
    "\n",
    "df_gold.limit(5).display()"
   ]
  },
  {
   "cell_type": "markdown",
   "metadata": {
    "application/vnd.databricks.v1+cell": {
     "cellMetadata": {},
     "inputWidgets": {},
     "nuid": "35d00ceb-3f72-438f-ba39-2e3592fd551d",
     "showTitle": false,
     "tableResultSettingsMap": {},
     "title": ""
    }
   },
   "source": [
    "####Adding the MOVIE_ERA column to the Gold DataFrame<br>\n",
    "\n",
    "Movies released between 1932 and 1979 are classified as Old.<br>\n",
    "Movies released between 1980 and 2009 are classified as Middle.<br>\n",
    "Movies released between 2010 and 2023 are classified as Recent."
   ]
  },
  {
   "cell_type": "code",
   "execution_count": 0,
   "metadata": {
    "application/vnd.databricks.v1+cell": {
     "cellMetadata": {
      "byteLimit": 2048000,
      "rowLimit": 10000
     },
     "inputWidgets": {},
     "nuid": "f929f3d9-3e02-4340-83e7-84d93bebb453",
     "showTitle": false,
     "tableResultSettingsMap": {},
     "title": ""
    }
   },
   "outputs": [
    {
     "output_type": "display_data",
     "data": {
      "text/html": [
       "<style scoped>\n",
       "  .table-result-container {\n",
       "    max-height: 300px;\n",
       "    overflow: auto;\n",
       "  }\n",
       "  table, th, td {\n",
       "    border: 1px solid black;\n",
       "    border-collapse: collapse;\n",
       "  }\n",
       "  th, td {\n",
       "    padding: 5px;\n",
       "  }\n",
       "  th {\n",
       "    text-align: left;\n",
       "  }\n",
       "</style><div class='table-result-container'><table class='table-result'><thead style='background-color: white'><tr><th>MOVIES</th><th>YEAR</th><th>GENRE</th><th>RATING</th><th>ONE-LINE</th><th>STARS</th><th>VOTES</th><th>RunTime</th><th>MOVIE_ERA</th></tr></thead><tbody><tr><td>Blood Red Sky</td><td>2021</td><td>\n",
       "Action, Horror, Thriller            </td><td>6.1</td><td>\n",
       "A woman with a mysterious illness is forced into action when a group of terrorists attempt to hijack a transatlantic overnight flight.</td><td>\n",
       "    Director:\n",
       "Peter Thorwarth\n",
       "| \n",
       "    Stars:\n",
       "Peri Baumeister, \n",
       "Carl Anton Koch, \n",
       "Alexander Scheer, \n",
       "Kais Setti\n",
       "</td><td>21062</td><td>121</td><td>Recent</td></tr><tr><td>Masters of the Universe: Revelation</td><td>2021</td><td>\n",
       "Animation, Action, Adventure            </td><td>5.0</td><td>\n",
       "The war for Eternia begins again in what may be the final battle between He-Man and Skeletor. A new animated series from writer-director Kevin Smith.</td><td>\n",
       "            \n",
       "    Stars:\n",
       "Chris Wood, \n",
       "Sarah Michelle Gellar, \n",
       "Lena Headey, \n",
       "Mark Hamill\n",
       "</td><td>17870</td><td>25</td><td>Recent</td></tr><tr><td>The Walking Dead</td><td>2010</td><td>\n",
       "Drama, Horror, Thriller            </td><td>8.2</td><td>\n",
       "Sheriff Deputy Rick Grimes wakes up from a coma to learn the world is in ruins and must lead a group of survivors to stay alive.</td><td>\n",
       "            \n",
       "    Stars:\n",
       "Andrew Lincoln, \n",
       "Norman Reedus, \n",
       "Melissa McBride, \n",
       "Lauren Cohan\n",
       "</td><td>885805</td><td>44</td><td>Recent</td></tr><tr><td>Rick and Morty</td><td>2013</td><td>\n",
       "Animation, Adventure, Comedy            </td><td>9.2</td><td>\n",
       "An animated series that follows the exploits of a super scientist and his not-so-bright grandson.</td><td>\n",
       "            \n",
       "    Stars:\n",
       "Justin Roiland, \n",
       "Chris Parnell, \n",
       "Spencer Grammer, \n",
       "Sarah Chalke\n",
       "</td><td>414849</td><td>23</td><td>Recent</td></tr><tr><td>Army of Thieves</td><td>2021</td><td>\n",
       "Action, Crime, Horror            </td><td>7.1</td><td>\n",
       "A prequel, set before the events of Army of the Dead, which focuses on German safecracker Ludwig Dieter leading a group of aspiring thieves on a top secret heist during the early stages of the zombie apocalypse.</td><td>\n",
       "    Director:\n",
       "Matthias Schweighöfer\n",
       "| \n",
       "    Stars:\n",
       "Matthias Schweighöfer, \n",
       "Nathalie Emmanuel, \n",
       "Ruby O. Fee, \n",
       "Stuart Martin\n",
       "</td><td>0</td><td>60</td><td>Recent</td></tr></tbody></table></div>"
      ]
     },
     "metadata": {
      "application/vnd.databricks.v1+output": {
       "addedWidgets": {},
       "aggData": [],
       "aggError": "",
       "aggOverflow": false,
       "aggSchema": [],
       "aggSeriesLimitReached": false,
       "aggType": "",
       "arguments": {},
       "columnCustomDisplayInfos": {},
       "data": [
        [
         "Blood Red Sky",
         2021,
         "\nAction, Horror, Thriller            ",
         6.1,
         "\nA woman with a mysterious illness is forced into action when a group of terrorists attempt to hijack a transatlantic overnight flight.",
         "\n    Director:\nPeter Thorwarth\n| \n    Stars:\nPeri Baumeister, \nCarl Anton Koch, \nAlexander Scheer, \nKais Setti\n",
         21062,
         121,
         "Recent"
        ],
        [
         "Masters of the Universe: Revelation",
         2021,
         "\nAnimation, Action, Adventure            ",
         5.0,
         "\nThe war for Eternia begins again in what may be the final battle between He-Man and Skeletor. A new animated series from writer-director Kevin Smith.",
         "\n            \n    Stars:\nChris Wood, \nSarah Michelle Gellar, \nLena Headey, \nMark Hamill\n",
         17870,
         25,
         "Recent"
        ],
        [
         "The Walking Dead",
         2010,
         "\nDrama, Horror, Thriller            ",
         8.2,
         "\nSheriff Deputy Rick Grimes wakes up from a coma to learn the world is in ruins and must lead a group of survivors to stay alive.",
         "\n            \n    Stars:\nAndrew Lincoln, \nNorman Reedus, \nMelissa McBride, \nLauren Cohan\n",
         885805,
         44,
         "Recent"
        ],
        [
         "Rick and Morty",
         2013,
         "\nAnimation, Adventure, Comedy            ",
         9.2,
         "\nAn animated series that follows the exploits of a super scientist and his not-so-bright grandson.",
         "\n            \n    Stars:\nJustin Roiland, \nChris Parnell, \nSpencer Grammer, \nSarah Chalke\n",
         414849,
         23,
         "Recent"
        ],
        [
         "Army of Thieves",
         2021,
         "\nAction, Crime, Horror            ",
         7.1,
         "\nA prequel, set before the events of Army of the Dead, which focuses on German safecracker Ludwig Dieter leading a group of aspiring thieves on a top secret heist during the early stages of the zombie apocalypse.",
         "\n    Director:\nMatthias Schweighöfer\n| \n    Stars:\nMatthias Schweighöfer, \nNathalie Emmanuel, \nRuby O. Fee, \nStuart Martin\n",
         0,
         60,
         "Recent"
        ]
       ],
       "datasetInfos": [],
       "dbfsResultPath": null,
       "isJsonSchema": true,
       "metadata": {},
       "overflow": false,
       "plotOptions": {
        "customPlotOptions": {},
        "displayType": "table",
        "pivotAggregation": null,
        "pivotColumns": null,
        "xColumns": null,
        "yColumns": null
       },
       "removedWidgets": [],
       "schema": [
        {
         "metadata": "{}",
         "name": "MOVIES",
         "type": "\"string\""
        },
        {
         "metadata": "{}",
         "name": "YEAR",
         "type": "\"integer\""
        },
        {
         "metadata": "{}",
         "name": "GENRE",
         "type": "\"string\""
        },
        {
         "metadata": "{}",
         "name": "RATING",
         "type": "\"double\""
        },
        {
         "metadata": "{}",
         "name": "ONE-LINE",
         "type": "\"string\""
        },
        {
         "metadata": "{}",
         "name": "STARS",
         "type": "\"string\""
        },
        {
         "metadata": "{}",
         "name": "VOTES",
         "type": "\"long\""
        },
        {
         "metadata": "{}",
         "name": "RunTime",
         "type": "\"integer\""
        },
        {
         "metadata": "{}",
         "name": "MOVIE_ERA",
         "type": "\"string\""
        }
       ],
       "type": "table"
      }
     },
     "output_type": "display_data"
    }
   ],
   "source": [
    "from pyspark.sql import functions as F\n",
    "\n",
    "df_gold = df_gold.withColumn(\n",
    "    \"MOVIE_ERA\",\n",
    "    F.when(F.col(\"YEAR\") <= 1979, \"Old\")\n",
    "     .when((F.col(\"YEAR\") >= 1980) & (F.col(\"YEAR\") <= 2009), \"Middle\")\n",
    "     .otherwise(\"Recent\")\n",
    ")\n",
    "\n",
    "display(df_gold.limit(5))\n"
   ]
  },
  {
   "cell_type": "code",
   "execution_count": 0,
   "metadata": {
    "application/vnd.databricks.v1+cell": {
     "cellMetadata": {
      "byteLimit": 2048000,
      "implicitDf": true,
      "rowLimit": 10000
     },
     "inputWidgets": {},
     "nuid": "b3461d47-9b48-40b4-b2b1-a1c3411a0af9",
     "showTitle": false,
     "tableResultSettingsMap": {
      "0": {
       "dataGridStateBlob": "{\"version\":1,\"tableState\":{\"columnPinning\":{\"left\":[\"#row_number#\"],\"right\":[]},\"columnSizing\":{},\"columnVisibility\":{}},\"settings\":{\"columns\":{}},\"syncTimestamp\":1755534418425}",
       "filterBlob": null,
       "queryPlanFiltersBlob": null,
       "tableResultIndex": 0
      }
     },
     "title": ""
    }
   },
   "outputs": [
    {
     "output_type": "display_data",
     "data": {
      "text/html": [
       "<style scoped>\n",
       "  .table-result-container {\n",
       "    max-height: 300px;\n",
       "    overflow: auto;\n",
       "  }\n",
       "  table, th, td {\n",
       "    border: 1px solid black;\n",
       "    border-collapse: collapse;\n",
       "  }\n",
       "  th, td {\n",
       "    padding: 5px;\n",
       "  }\n",
       "  th {\n",
       "    text-align: left;\n",
       "  }\n",
       "</style><div class='table-result-container'><table class='table-result'><thead style='background-color: white'><tr><th>min(rating)</th><th>max(rating)</th><th>min(VOTES)</th><th>max(VOTES)</th></tr></thead><tbody><tr><td>1.1</td><td>9.9</td><td>5</td><td>1713028</td></tr></tbody></table></div>"
      ]
     },
     "metadata": {
      "application/vnd.databricks.v1+output": {
       "addedWidgets": {},
       "aggData": [],
       "aggError": "",
       "aggOverflow": false,
       "aggSchema": [],
       "aggSeriesLimitReached": false,
       "aggType": "",
       "arguments": {},
       "columnCustomDisplayInfos": {},
       "data": [
        [
         1.1,
         9.9,
         5,
         1713028
        ]
       ],
       "datasetInfos": [],
       "dbfsResultPath": null,
       "isJsonSchema": true,
       "metadata": {
        "dataframeName": "_sqldf",
        "executionCount": 6
       },
       "overflow": false,
       "plotOptions": {
        "customPlotOptions": {},
        "displayType": "table",
        "pivotAggregation": null,
        "pivotColumns": null,
        "xColumns": null,
        "yColumns": null
       },
       "removedWidgets": [],
       "schema": [
        {
         "metadata": "{\"__autoGeneratedAlias\":\"true\"}",
         "name": "min(rating)",
         "type": "\"double\""
        },
        {
         "metadata": "{\"__autoGeneratedAlias\":\"true\"}",
         "name": "max(rating)",
         "type": "\"double\""
        },
        {
         "metadata": "{\"__autoGeneratedAlias\":\"true\"}",
         "name": "min(VOTES)",
         "type": "\"long\""
        },
        {
         "metadata": "{\"__autoGeneratedAlias\":\"true\"}",
         "name": "max(VOTES)",
         "type": "\"long\""
        }
       ],
       "type": "table"
      }
     },
     "output_type": "display_data"
    }
   ],
   "source": [
    "%sql\n",
    "select min(rating), max(rating), min(VOTES), max(VOTES) from delta_table_silver where votes != 0"
   ]
  },
  {
   "cell_type": "markdown",
   "metadata": {
    "application/vnd.databricks.v1+cell": {
     "cellMetadata": {},
     "inputWidgets": {},
     "nuid": "8319352c-b26b-46b5-85d9-18182c61e920",
     "showTitle": false,
     "tableResultSettingsMap": {},
     "title": ""
    }
   },
   "source": [
    "####Adding the POPULARITY_CATEGORY column to the Gold DataFrame\n",
    "\n",
    "Movies with more than 500,000 votes are classified as Very Popular.<br>\n",
    "Movies with 100,001 to 500,000 votes are classified as Popular.<br>\n",
    "Movies with 10,001 to 100,000 votes are classified as Moderate.<br>\n",
    "Movies with 10,000 votes or fewer are classified as Low Popularity."
   ]
  },
  {
   "cell_type": "code",
   "execution_count": 0,
   "metadata": {
    "application/vnd.databricks.v1+cell": {
     "cellMetadata": {
      "byteLimit": 2048000,
      "rowLimit": 10000
     },
     "inputWidgets": {},
     "nuid": "00d857de-8d23-42dc-8d4a-ef7317397fd1",
     "showTitle": false,
     "tableResultSettingsMap": {},
     "title": ""
    }
   },
   "outputs": [],
   "source": [
    "from pyspark.sql import functions as F\n",
    "\n",
    "df_gold = df_gold.withColumn(\n",
    "    \"POPULARITY_CATEGORY\",\n",
    "    F.when(F.col(\"VOTES\") > 500000, \"Very Popular\")\n",
    "     .when(F.col(\"VOTES\") > 100000, \"Popular\")\n",
    "     .when(F.col(\"VOTES\") > 10000, \"Moderate\")\n",
    "     .otherwise(\"Low Popularity\")\n",
    ")\n"
   ]
  },
  {
   "cell_type": "markdown",
   "metadata": {
    "application/vnd.databricks.v1+cell": {
     "cellMetadata": {},
     "inputWidgets": {},
     "nuid": "49736432-bc68-438e-b459-725e49b4c0b8",
     "showTitle": false,
     "tableResultSettingsMap": {},
     "title": ""
    }
   },
   "source": [
    "####Adding the RATING_CATEGORY column to the Gold DataFrame\n",
    "\n",
    "Movies with ratings 8.5 and above are classified as Excellent.<br>\n",
    "Movies with ratings between 7.0 and 8.49 are classified as Good.<br>\n",
    "Movies with ratings between 5.0 and 6.99 are classified as Average.<br>\n",
    "Movies with ratings below 5.0 are classified as Poor."
   ]
  },
  {
   "cell_type": "code",
   "execution_count": 0,
   "metadata": {
    "application/vnd.databricks.v1+cell": {
     "cellMetadata": {
      "byteLimit": 2048000,
      "rowLimit": 10000
     },
     "inputWidgets": {},
     "nuid": "70f8c680-87a7-4839-91d4-711d279d3018",
     "showTitle": false,
     "tableResultSettingsMap": {},
     "title": ""
    }
   },
   "outputs": [
    {
     "output_type": "display_data",
     "data": {
      "text/html": [
       "<style scoped>\n",
       "  .table-result-container {\n",
       "    max-height: 300px;\n",
       "    overflow: auto;\n",
       "  }\n",
       "  table, th, td {\n",
       "    border: 1px solid black;\n",
       "    border-collapse: collapse;\n",
       "  }\n",
       "  th, td {\n",
       "    padding: 5px;\n",
       "  }\n",
       "  th {\n",
       "    text-align: left;\n",
       "  }\n",
       "</style><div class='table-result-container'><table class='table-result'><thead style='background-color: white'><tr><th>MOVIES</th><th>YEAR</th><th>GENRE</th><th>RATING</th><th>ONE-LINE</th><th>STARS</th><th>VOTES</th><th>RunTime</th><th>MOVIE_ERA</th><th>POPULARITY_CATEGORY</th><th>RATING_CATEGORY</th></tr></thead><tbody><tr><td>Blood Red Sky</td><td>2021</td><td>\n",
       "Action, Horror, Thriller            </td><td>6.1</td><td>\n",
       "A woman with a mysterious illness is forced into action when a group of terrorists attempt to hijack a transatlantic overnight flight.</td><td>\n",
       "    Director:\n",
       "Peter Thorwarth\n",
       "| \n",
       "    Stars:\n",
       "Peri Baumeister, \n",
       "Carl Anton Koch, \n",
       "Alexander Scheer, \n",
       "Kais Setti\n",
       "</td><td>21062</td><td>121</td><td>Recent</td><td>Moderate</td><td>Average</td></tr><tr><td>Masters of the Universe: Revelation</td><td>2021</td><td>\n",
       "Animation, Action, Adventure            </td><td>5.0</td><td>\n",
       "The war for Eternia begins again in what may be the final battle between He-Man and Skeletor. A new animated series from writer-director Kevin Smith.</td><td>\n",
       "            \n",
       "    Stars:\n",
       "Chris Wood, \n",
       "Sarah Michelle Gellar, \n",
       "Lena Headey, \n",
       "Mark Hamill\n",
       "</td><td>17870</td><td>25</td><td>Recent</td><td>Moderate</td><td>Average</td></tr><tr><td>The Walking Dead</td><td>2010</td><td>\n",
       "Drama, Horror, Thriller            </td><td>8.2</td><td>\n",
       "Sheriff Deputy Rick Grimes wakes up from a coma to learn the world is in ruins and must lead a group of survivors to stay alive.</td><td>\n",
       "            \n",
       "    Stars:\n",
       "Andrew Lincoln, \n",
       "Norman Reedus, \n",
       "Melissa McBride, \n",
       "Lauren Cohan\n",
       "</td><td>885805</td><td>44</td><td>Recent</td><td>Very Popular</td><td>Good</td></tr><tr><td>Rick and Morty</td><td>2013</td><td>\n",
       "Animation, Adventure, Comedy            </td><td>9.2</td><td>\n",
       "An animated series that follows the exploits of a super scientist and his not-so-bright grandson.</td><td>\n",
       "            \n",
       "    Stars:\n",
       "Justin Roiland, \n",
       "Chris Parnell, \n",
       "Spencer Grammer, \n",
       "Sarah Chalke\n",
       "</td><td>414849</td><td>23</td><td>Recent</td><td>Popular</td><td>Excellent</td></tr><tr><td>Army of Thieves</td><td>2021</td><td>\n",
       "Action, Crime, Horror            </td><td>7.1</td><td>\n",
       "A prequel, set before the events of Army of the Dead, which focuses on German safecracker Ludwig Dieter leading a group of aspiring thieves on a top secret heist during the early stages of the zombie apocalypse.</td><td>\n",
       "    Director:\n",
       "Matthias Schweighöfer\n",
       "| \n",
       "    Stars:\n",
       "Matthias Schweighöfer, \n",
       "Nathalie Emmanuel, \n",
       "Ruby O. Fee, \n",
       "Stuart Martin\n",
       "</td><td>0</td><td>60</td><td>Recent</td><td>Low Popularity</td><td>Good</td></tr></tbody></table></div>"
      ]
     },
     "metadata": {
      "application/vnd.databricks.v1+output": {
       "addedWidgets": {},
       "aggData": [],
       "aggError": "",
       "aggOverflow": false,
       "aggSchema": [],
       "aggSeriesLimitReached": false,
       "aggType": "",
       "arguments": {},
       "columnCustomDisplayInfos": {},
       "data": [
        [
         "Blood Red Sky",
         2021,
         "\nAction, Horror, Thriller            ",
         6.1,
         "\nA woman with a mysterious illness is forced into action when a group of terrorists attempt to hijack a transatlantic overnight flight.",
         "\n    Director:\nPeter Thorwarth\n| \n    Stars:\nPeri Baumeister, \nCarl Anton Koch, \nAlexander Scheer, \nKais Setti\n",
         21062,
         121,
         "Recent",
         "Moderate",
         "Average"
        ],
        [
         "Masters of the Universe: Revelation",
         2021,
         "\nAnimation, Action, Adventure            ",
         5.0,
         "\nThe war for Eternia begins again in what may be the final battle between He-Man and Skeletor. A new animated series from writer-director Kevin Smith.",
         "\n            \n    Stars:\nChris Wood, \nSarah Michelle Gellar, \nLena Headey, \nMark Hamill\n",
         17870,
         25,
         "Recent",
         "Moderate",
         "Average"
        ],
        [
         "The Walking Dead",
         2010,
         "\nDrama, Horror, Thriller            ",
         8.2,
         "\nSheriff Deputy Rick Grimes wakes up from a coma to learn the world is in ruins and must lead a group of survivors to stay alive.",
         "\n            \n    Stars:\nAndrew Lincoln, \nNorman Reedus, \nMelissa McBride, \nLauren Cohan\n",
         885805,
         44,
         "Recent",
         "Very Popular",
         "Good"
        ],
        [
         "Rick and Morty",
         2013,
         "\nAnimation, Adventure, Comedy            ",
         9.2,
         "\nAn animated series that follows the exploits of a super scientist and his not-so-bright grandson.",
         "\n            \n    Stars:\nJustin Roiland, \nChris Parnell, \nSpencer Grammer, \nSarah Chalke\n",
         414849,
         23,
         "Recent",
         "Popular",
         "Excellent"
        ],
        [
         "Army of Thieves",
         2021,
         "\nAction, Crime, Horror            ",
         7.1,
         "\nA prequel, set before the events of Army of the Dead, which focuses on German safecracker Ludwig Dieter leading a group of aspiring thieves on a top secret heist during the early stages of the zombie apocalypse.",
         "\n    Director:\nMatthias Schweighöfer\n| \n    Stars:\nMatthias Schweighöfer, \nNathalie Emmanuel, \nRuby O. Fee, \nStuart Martin\n",
         0,
         60,
         "Recent",
         "Low Popularity",
         "Good"
        ]
       ],
       "datasetInfos": [],
       "dbfsResultPath": null,
       "isJsonSchema": true,
       "metadata": {},
       "overflow": false,
       "plotOptions": {
        "customPlotOptions": {},
        "displayType": "table",
        "pivotAggregation": null,
        "pivotColumns": null,
        "xColumns": null,
        "yColumns": null
       },
       "removedWidgets": [],
       "schema": [
        {
         "metadata": "{}",
         "name": "MOVIES",
         "type": "\"string\""
        },
        {
         "metadata": "{}",
         "name": "YEAR",
         "type": "\"integer\""
        },
        {
         "metadata": "{}",
         "name": "GENRE",
         "type": "\"string\""
        },
        {
         "metadata": "{}",
         "name": "RATING",
         "type": "\"double\""
        },
        {
         "metadata": "{}",
         "name": "ONE-LINE",
         "type": "\"string\""
        },
        {
         "metadata": "{}",
         "name": "STARS",
         "type": "\"string\""
        },
        {
         "metadata": "{}",
         "name": "VOTES",
         "type": "\"long\""
        },
        {
         "metadata": "{}",
         "name": "RunTime",
         "type": "\"integer\""
        },
        {
         "metadata": "{}",
         "name": "MOVIE_ERA",
         "type": "\"string\""
        },
        {
         "metadata": "{}",
         "name": "POPULARITY_CATEGORY",
         "type": "\"string\""
        },
        {
         "metadata": "{}",
         "name": "RATING_CATEGORY",
         "type": "\"string\""
        }
       ],
       "type": "table"
      }
     },
     "output_type": "display_data"
    }
   ],
   "source": [
    "df_gold = df_gold.withColumn(\n",
    "    \"RATING_CATEGORY\",\n",
    "    F.when(F.col(\"RATING\") >= 8.5, \"Excellent\")\n",
    "     .when(F.col(\"RATING\") >= 7.0, \"Good\")\n",
    "     .when(F.col(\"RATING\") >= 5.0, \"Average\")\n",
    "     .otherwise(\"Poor\")\n",
    ")\n",
    "\n",
    "display(df_gold.limit(5))\n"
   ]
  },
  {
   "cell_type": "code",
   "execution_count": 0,
   "metadata": {
    "application/vnd.databricks.v1+cell": {
     "cellMetadata": {
      "byteLimit": 2048000,
      "rowLimit": 10000
     },
     "inputWidgets": {},
     "nuid": "34de876e-3b9e-4a38-8915-7af5c7910196",
     "showTitle": false,
     "tableResultSettingsMap": {},
     "title": ""
    }
   },
   "outputs": [],
   "source": [
    "''' Gold DataFrame was written to the ADLS Gold layer in Delta format using overwrite mode.'''\n",
    "\n",
    "ADLS_Gold_path = \"/mnt/ADLSmount/gold/movies_dataset/\"\n",
    "\n",
    "df_gold.write.format(\"delta\") \\\n",
    "    .mode(\"overwrite\")\\\n",
    "    .save(ADLS_Gold_path)"
   ]
  },
  {
   "cell_type": "markdown",
   "metadata": {
    "application/vnd.databricks.v1+cell": {
     "cellMetadata": {},
     "inputWidgets": {},
     "nuid": "aa5b5305-7345-4f04-b2b9-88a9a6a34630",
     "showTitle": false,
     "tableResultSettingsMap": {},
     "title": ""
    }
   },
   "source": [
    "#####Gold dataset is present in ADLS in Parquet format\n",
    "![Gold Layer in ADLS](https://adb-582130891499017.17.azuredatabricks.net/files/tables/ADLSsnipGold.png)"
   ]
  },
  {
   "cell_type": "code",
   "execution_count": 0,
   "metadata": {
    "application/vnd.databricks.v1+cell": {
     "cellMetadata": {
      "byteLimit": 2048000,
      "rowLimit": 10000
     },
     "inputWidgets": {},
     "nuid": "b75612ed-cde6-4337-89a8-ede8529d592a",
     "showTitle": false,
     "tableResultSettingsMap": {},
     "title": ""
    }
   },
   "outputs": [
    {
     "output_type": "execute_result",
     "data": {
      "text/plain": [
       "DataFrame[]"
      ]
     },
     "execution_count": 13,
     "metadata": {},
     "output_type": "execute_result"
    }
   ],
   "source": [
    "spark.sql(\"\"\"\n",
    "    CREATE TABLE IF NOT EXISTS delta_table_gold\n",
    "    USING DELTA\n",
    "    LOCATION '{}'\n",
    "\"\"\".format(ADLS_Gold_path))"
   ]
  },
  {
   "cell_type": "code",
   "execution_count": 0,
   "metadata": {
    "application/vnd.databricks.v1+cell": {
     "cellMetadata": {
      "byteLimit": 2048000,
      "implicitDf": true,
      "rowLimit": 10000
     },
     "inputWidgets": {},
     "nuid": "797b3350-3aa9-4530-8074-f8597ff64dc5",
     "showTitle": false,
     "tableResultSettingsMap": {},
     "title": ""
    }
   },
   "outputs": [
    {
     "output_type": "display_data",
     "data": {
      "text/html": [
       "<style scoped>\n",
       "  .table-result-container {\n",
       "    max-height: 300px;\n",
       "    overflow: auto;\n",
       "  }\n",
       "  table, th, td {\n",
       "    border: 1px solid black;\n",
       "    border-collapse: collapse;\n",
       "  }\n",
       "  th, td {\n",
       "    padding: 5px;\n",
       "  }\n",
       "  th {\n",
       "    text-align: left;\n",
       "  }\n",
       "</style><div class='table-result-container'><table class='table-result'><thead style='background-color: white'><tr><th>MOVIES</th><th>YEAR</th><th>GENRE</th><th>RATING</th><th>ONE-LINE</th><th>STARS</th><th>VOTES</th><th>RunTime</th><th>MOVIE_ERA</th><th>POPULARITY_CATEGORY</th><th>RATING_CATEGORY</th></tr></thead><tbody><tr><td>Blood Red Sky</td><td>2021</td><td>\n",
       "Action, Horror, Thriller            </td><td>6.1</td><td>\n",
       "A woman with a mysterious illness is forced into action when a group of terrorists attempt to hijack a transatlantic overnight flight.</td><td>\n",
       "    Director:\n",
       "Peter Thorwarth\n",
       "| \n",
       "    Stars:\n",
       "Peri Baumeister, \n",
       "Carl Anton Koch, \n",
       "Alexander Scheer, \n",
       "Kais Setti\n",
       "</td><td>21062</td><td>121</td><td>Recent</td><td>Moderate</td><td>Average</td></tr><tr><td>Masters of the Universe: Revelation</td><td>2021</td><td>\n",
       "Animation, Action, Adventure            </td><td>5.0</td><td>\n",
       "The war for Eternia begins again in what may be the final battle between He-Man and Skeletor. A new animated series from writer-director Kevin Smith.</td><td>\n",
       "            \n",
       "    Stars:\n",
       "Chris Wood, \n",
       "Sarah Michelle Gellar, \n",
       "Lena Headey, \n",
       "Mark Hamill\n",
       "</td><td>17870</td><td>25</td><td>Recent</td><td>Moderate</td><td>Average</td></tr><tr><td>The Walking Dead</td><td>2010</td><td>\n",
       "Drama, Horror, Thriller            </td><td>8.2</td><td>\n",
       "Sheriff Deputy Rick Grimes wakes up from a coma to learn the world is in ruins and must lead a group of survivors to stay alive.</td><td>\n",
       "            \n",
       "    Stars:\n",
       "Andrew Lincoln, \n",
       "Norman Reedus, \n",
       "Melissa McBride, \n",
       "Lauren Cohan\n",
       "</td><td>885805</td><td>44</td><td>Recent</td><td>Very Popular</td><td>Good</td></tr><tr><td>Rick and Morty</td><td>2013</td><td>\n",
       "Animation, Adventure, Comedy            </td><td>9.2</td><td>\n",
       "An animated series that follows the exploits of a super scientist and his not-so-bright grandson.</td><td>\n",
       "            \n",
       "    Stars:\n",
       "Justin Roiland, \n",
       "Chris Parnell, \n",
       "Spencer Grammer, \n",
       "Sarah Chalke\n",
       "</td><td>414849</td><td>23</td><td>Recent</td><td>Popular</td><td>Excellent</td></tr><tr><td>Army of Thieves</td><td>2021</td><td>\n",
       "Action, Crime, Horror            </td><td>7.1</td><td>\n",
       "A prequel, set before the events of Army of the Dead, which focuses on German safecracker Ludwig Dieter leading a group of aspiring thieves on a top secret heist during the early stages of the zombie apocalypse.</td><td>\n",
       "    Director:\n",
       "Matthias Schweighöfer\n",
       "| \n",
       "    Stars:\n",
       "Matthias Schweighöfer, \n",
       "Nathalie Emmanuel, \n",
       "Ruby O. Fee, \n",
       "Stuart Martin\n",
       "</td><td>0</td><td>60</td><td>Recent</td><td>Low Popularity</td><td>Good</td></tr></tbody></table></div>"
      ]
     },
     "metadata": {
      "application/vnd.databricks.v1+output": {
       "addedWidgets": {},
       "aggData": [],
       "aggError": "",
       "aggOverflow": false,
       "aggSchema": [],
       "aggSeriesLimitReached": false,
       "aggType": "",
       "arguments": {},
       "columnCustomDisplayInfos": {},
       "data": [
        [
         "Blood Red Sky",
         2021,
         "\nAction, Horror, Thriller            ",
         6.1,
         "\nA woman with a mysterious illness is forced into action when a group of terrorists attempt to hijack a transatlantic overnight flight.",
         "\n    Director:\nPeter Thorwarth\n| \n    Stars:\nPeri Baumeister, \nCarl Anton Koch, \nAlexander Scheer, \nKais Setti\n",
         21062,
         121,
         "Recent",
         "Moderate",
         "Average"
        ],
        [
         "Masters of the Universe: Revelation",
         2021,
         "\nAnimation, Action, Adventure            ",
         5.0,
         "\nThe war for Eternia begins again in what may be the final battle between He-Man and Skeletor. A new animated series from writer-director Kevin Smith.",
         "\n            \n    Stars:\nChris Wood, \nSarah Michelle Gellar, \nLena Headey, \nMark Hamill\n",
         17870,
         25,
         "Recent",
         "Moderate",
         "Average"
        ],
        [
         "The Walking Dead",
         2010,
         "\nDrama, Horror, Thriller            ",
         8.2,
         "\nSheriff Deputy Rick Grimes wakes up from a coma to learn the world is in ruins and must lead a group of survivors to stay alive.",
         "\n            \n    Stars:\nAndrew Lincoln, \nNorman Reedus, \nMelissa McBride, \nLauren Cohan\n",
         885805,
         44,
         "Recent",
         "Very Popular",
         "Good"
        ],
        [
         "Rick and Morty",
         2013,
         "\nAnimation, Adventure, Comedy            ",
         9.2,
         "\nAn animated series that follows the exploits of a super scientist and his not-so-bright grandson.",
         "\n            \n    Stars:\nJustin Roiland, \nChris Parnell, \nSpencer Grammer, \nSarah Chalke\n",
         414849,
         23,
         "Recent",
         "Popular",
         "Excellent"
        ],
        [
         "Army of Thieves",
         2021,
         "\nAction, Crime, Horror            ",
         7.1,
         "\nA prequel, set before the events of Army of the Dead, which focuses on German safecracker Ludwig Dieter leading a group of aspiring thieves on a top secret heist during the early stages of the zombie apocalypse.",
         "\n    Director:\nMatthias Schweighöfer\n| \n    Stars:\nMatthias Schweighöfer, \nNathalie Emmanuel, \nRuby O. Fee, \nStuart Martin\n",
         0,
         60,
         "Recent",
         "Low Popularity",
         "Good"
        ]
       ],
       "datasetInfos": [],
       "dbfsResultPath": null,
       "isJsonSchema": true,
       "metadata": {
        "dataframeName": "_sqldf",
        "executionCount": 14
       },
       "overflow": false,
       "plotOptions": {
        "customPlotOptions": {},
        "displayType": "table",
        "pivotAggregation": null,
        "pivotColumns": null,
        "xColumns": null,
        "yColumns": null
       },
       "removedWidgets": [],
       "schema": [
        {
         "metadata": "{}",
         "name": "MOVIES",
         "type": "\"string\""
        },
        {
         "metadata": "{}",
         "name": "YEAR",
         "type": "\"integer\""
        },
        {
         "metadata": "{}",
         "name": "GENRE",
         "type": "\"string\""
        },
        {
         "metadata": "{}",
         "name": "RATING",
         "type": "\"double\""
        },
        {
         "metadata": "{}",
         "name": "ONE-LINE",
         "type": "\"string\""
        },
        {
         "metadata": "{}",
         "name": "STARS",
         "type": "\"string\""
        },
        {
         "metadata": "{}",
         "name": "VOTES",
         "type": "\"long\""
        },
        {
         "metadata": "{}",
         "name": "RunTime",
         "type": "\"integer\""
        },
        {
         "metadata": "{}",
         "name": "MOVIE_ERA",
         "type": "\"string\""
        },
        {
         "metadata": "{}",
         "name": "POPULARITY_CATEGORY",
         "type": "\"string\""
        },
        {
         "metadata": "{}",
         "name": "RATING_CATEGORY",
         "type": "\"string\""
        }
       ],
       "type": "table"
      }
     },
     "output_type": "display_data"
    }
   ],
   "source": [
    "%sql\n",
    "SELECT * FROM delta_table_gold where LIMIT 5;"
   ]
  }
 ],
 "metadata": {
  "application/vnd.databricks.v1+notebook": {
   "computePreferences": null,
   "dashboards": [],
   "environmentMetadata": {
    "base_environment": "",
    "environment_version": "2"
   },
   "inputWidgetPreferences": null,
   "language": "python",
   "notebookMetadata": {
    "mostRecentlyExecutedCommandWithImplicitDF": {
     "commandId": 8131451852024915,
     "dataframes": [
      "_sqldf"
     ]
    },
    "pythonIndentUnit": 4
   },
   "notebookName": "Load",
   "widgets": {}
  },
  "language_info": {
   "name": "python"
  }
 },
 "nbformat": 4,
 "nbformat_minor": 0
}